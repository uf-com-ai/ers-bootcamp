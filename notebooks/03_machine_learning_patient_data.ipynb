{
 "cells": [
  {
   "cell_type": "markdown",
   "metadata": {
    "id": "kOmXUMktrCqz"
   },
   "source": [
    "# ![](../graphics/stat_ai_logo.png)\n",
    "***\n",
    "# Machine Learning with Structured Patient Data\n",
    "\n",
    "In this module, we will work through an illustrated example of using artificial intelligence to develop a patient risk prediction tool using electronic health records (EHR) data. *Adapted from Parisa Rashidi 2021, University of Florida Biomedical Data Science, Department of Biomedical Engineering.*"
   ]
  },
  {
   "cell_type": "markdown",
   "metadata": {},
   "source": [
    "### After this module, students will be able to:\n",
    "\n",
    "* Explain the lifecycle of typical machine learning (ML) projects.\n",
    "* Preprocess datasets using Pandas implementations of common data pipelines.\n",
    "* Train an XGBoost machine learning model using a structured patient dataset.\n",
    "* Build a deep learning (DL) classifier using Keras.\n",
    "* Explain model decision-making through interpretability techniques.\n",
    "\n",
    "In this notebook, we will implement two machine learning models to predict the risk of acute kidney injury (AKI) following major inpatient surgery, using a tabular dataset of patient features.\n",
    "\n",
    "# ![](../graphics/get_started_icon.png)"
   ]
  },
  {
   "cell_type": "markdown",
   "metadata": {
    "id": "6MVt0bkArtGu"
   },
   "source": [
    "### Motivation\n",
    "\n",
    "* Predicting surgical complications *before* surgery can inform (1) shared decisions regarding the appropriateness of procedures, (2) targeted risk-reduction strategies, and (3) postoperative resource use. \n",
    "\n",
    "* Cognitive and judgment errors are major sources of potentially preventable complications.\n",
    "    * Example: if the risk of complications is underestimated, high-risk patients may be triaged to general wards rather than more appropriate intensive care units (ICUs).\n",
    "    \n",
    "* AI-based clinical decision support has the potential to mitigate harm from cognitive errors occurring when estimating the risk of postoperative complications.\n",
    "\n",
    "* All patients have a unique risk profile that is specific to their demographic characteristics, comorbid conditions, physiological reserve, planned surgical procedure, and surgeon skill.\n",
    "\n",
    "* Clinicians sometimes display moderate ability to estimate risk probabilities. AI tools are intended to augment decision-making.\n",
    "\n",
    "* Many clinicians are hindered by time-consuming manual data entry requirements and lack of integration with clinical workflow.\n",
    "    \n",
    "* AI predictive models using automated EHR data inputs may be able to mitigate these challenges."
   ]
  },
  {
   "cell_type": "markdown",
   "metadata": {},
   "source": [
    "### Lifecycle of ML\n",
    "\n",
    "Shown below are the major steps that are involved in a typical ML lifecycle.\n",
    "<center><img src=\"../graphics/ml.png\" alt=\"ML lifecycle\" width=\"50%\"></center>\n",
    "\n",
    "#### 1. Data extraction and processing\n",
    "* Relevant data must be extracted (example: all revelant laboratory values and vital signs).\n",
    "* Data quality and conformation to modeling requirements must be ensured through data preprocessing (example: fixing the missing data, removing any unwanted outliers, and encoding the categorical data.)\n",
    "\n",
    "#### 2. Model development\n",
    "* Machine learning models are built from data.\n",
    "* Recall our module on functions: an ML model can be thought of as a **function** that maps a set of input values (example: patient characteristics) to an output value (example: probability of developing AKI).\n",
    "* We develop a model on data from a **training** cohort.\n",
    "* During the model refinement stage, known as **training**, model parameters (such as *weights* and *biases*) are altered to optimize the associations between inputs and outputs.\n",
    "* After training, a model is ready to make predictions on *new data it has not seen before*. But how accurate will it be?\n",
    "\n",
    "#### 3. Evaluation and Intepretation\n",
    "* Once a ML model is trained, we evaluate the end result on **testing** dataset to see how well the model performed or how reliable it is.\n",
    "* Multiple performance metrics such as accuracy, AUC, sensitivity, and specificity can be evaluated.\n",
    "* Once we are satisfied with a model's performance, we may implement **explainable AI (XAI)** techniques to discover **why** a model behaves in a particular way.\n",
    "* XAI techniques include computing a relative importance score associated with each input feature/column (for a given patient, how important was each input in determining that patient's prediction?).\n",
    "\n",
    "#### 4. Deployment\n",
    "* ML model deployment is the process of placing a finished ML model into a live environment, such as creating a web service or mobile application for prediction.\n",
    "* It is imperative that the performance of an established model is continually monitored in prospective deployment to safeguard against data distribution shifts resulting from changes in populations, practice, or other changes that may result in deteriorating model performance over time.\n",
    "\n",
    "#### 5. Optimization\n",
    "* A deployed ML model has real-world impact and must be continuously monitored and maintained.\n",
    "* When new or updated data becomes available, or when we determine that an existing deployed model no longer results in satisfactory performance, we need to optimize the model by re-training and re-evaluating the ML model.\n",
    "\n",
    "In this notebook, we will only focus on the first three phases. "
   ]
  },
  {
   "cell_type": "markdown",
   "metadata": {},
   "source": [
    "## Data and problem definition\n",
    "\n",
    "We will be using an EHR dataset containing 10,000 surgical patients.\n",
    "* **Input features (X)** (47)\n",
    "    * Demographic variables\n",
    "    * Admission and surgery information\n",
    "    * Social determinants of health (SDOH)\n",
    "    * One-year medication history\n",
    "    * Admission comorbidities\n",
    "    * Estimated glomerular filtration rate (eGFR: measures kidney function) before surgery\n",
    "* **Outcome (Y)** (1)\n",
    "    * Postoperative AKI: onset of acute kidney injury (AKI) at any point between the end of surgery and patient discharge or death.\n",
    "    * This is a binary outcome (it is recorded as either 0 or 1 for each patient). The ML model will learn to predict the risk of each patient developing AKI based on the specific input features."
   ]
  },
  {
   "cell_type": "code",
   "execution_count": 1,
   "metadata": {},
   "outputs": [
    {
     "data": {
      "text/html": [
       "<div>\n",
       "<style scoped>\n",
       "    .dataframe tbody tr th:only-of-type {\n",
       "        vertical-align: middle;\n",
       "    }\n",
       "\n",
       "    .dataframe tbody tr th {\n",
       "        vertical-align: top;\n",
       "    }\n",
       "\n",
       "    .dataframe thead th {\n",
       "        text-align: right;\n",
       "    }\n",
       "</style>\n",
       "<table border=\"1\" class=\"dataframe\">\n",
       "  <thead>\n",
       "    <tr style=\"text-align: right;\">\n",
       "      <th></th>\n",
       "      <th>patient_id</th>\n",
       "      <th>sex</th>\n",
       "      <th>ethnicity</th>\n",
       "      <th>race</th>\n",
       "      <th>language</th>\n",
       "      <th>marital_status</th>\n",
       "      <th>age</th>\n",
       "      <th>bmi</th>\n",
       "      <th>admission_source</th>\n",
       "      <th>emergent</th>\n",
       "      <th>...</th>\n",
       "      <th>valve</th>\n",
       "      <th>coag</th>\n",
       "      <th>obese</th>\n",
       "      <th>wghtloss</th>\n",
       "      <th>lytes</th>\n",
       "      <th>anemia</th>\n",
       "      <th>alc_drug</th>\n",
       "      <th>depress</th>\n",
       "      <th>egfr</th>\n",
       "      <th>aki_surg_disch</th>\n",
       "    </tr>\n",
       "  </thead>\n",
       "  <tbody>\n",
       "    <tr>\n",
       "      <th>0</th>\n",
       "      <td>4757</td>\n",
       "      <td>FEMALE</td>\n",
       "      <td>NON-HISPANIC</td>\n",
       "      <td>WHITE</td>\n",
       "      <td>ENGLISH</td>\n",
       "      <td>SINGLE</td>\n",
       "      <td>43.3690</td>\n",
       "      <td>40.6750</td>\n",
       "      <td>TRANSFER</td>\n",
       "      <td>NON-EMERGENCY</td>\n",
       "      <td>...</td>\n",
       "      <td>0</td>\n",
       "      <td>1</td>\n",
       "      <td>1</td>\n",
       "      <td>1</td>\n",
       "      <td>0</td>\n",
       "      <td>0</td>\n",
       "      <td>0</td>\n",
       "      <td>0</td>\n",
       "      <td>62.8876</td>\n",
       "      <td>0</td>\n",
       "    </tr>\n",
       "    <tr>\n",
       "      <th>1</th>\n",
       "      <td>2656</td>\n",
       "      <td>FEMALE</td>\n",
       "      <td>NON-HISPANIC</td>\n",
       "      <td>WHITE</td>\n",
       "      <td>ENGLISH</td>\n",
       "      <td>SINGLE</td>\n",
       "      <td>41.7882</td>\n",
       "      <td>51.3062</td>\n",
       "      <td>NON-TRANSFER</td>\n",
       "      <td>NON-EMERGENCY</td>\n",
       "      <td>...</td>\n",
       "      <td>0</td>\n",
       "      <td>0</td>\n",
       "      <td>0</td>\n",
       "      <td>0</td>\n",
       "      <td>0</td>\n",
       "      <td>0</td>\n",
       "      <td>0</td>\n",
       "      <td>0</td>\n",
       "      <td>81.3574</td>\n",
       "      <td>1</td>\n",
       "    </tr>\n",
       "    <tr>\n",
       "      <th>2</th>\n",
       "      <td>9944</td>\n",
       "      <td>FEMALE</td>\n",
       "      <td>NON-HISPANIC</td>\n",
       "      <td>WHITE</td>\n",
       "      <td>ENGLISH</td>\n",
       "      <td>SINGLE</td>\n",
       "      <td>35.8761</td>\n",
       "      <td>26.2132</td>\n",
       "      <td>NON-TRANSFER</td>\n",
       "      <td>NON-EMERGENCY</td>\n",
       "      <td>...</td>\n",
       "      <td>0</td>\n",
       "      <td>0</td>\n",
       "      <td>1</td>\n",
       "      <td>0</td>\n",
       "      <td>0</td>\n",
       "      <td>0</td>\n",
       "      <td>0</td>\n",
       "      <td>0</td>\n",
       "      <td>90.1036</td>\n",
       "      <td>0</td>\n",
       "    </tr>\n",
       "    <tr>\n",
       "      <th>3</th>\n",
       "      <td>2065</td>\n",
       "      <td>FEMALE</td>\n",
       "      <td>NON-HISPANIC</td>\n",
       "      <td>AA</td>\n",
       "      <td>ENGLISH</td>\n",
       "      <td>DIVORCED</td>\n",
       "      <td>81.8270</td>\n",
       "      <td>35.5527</td>\n",
       "      <td>NON-TRANSFER</td>\n",
       "      <td>NON-EMERGENCY</td>\n",
       "      <td>...</td>\n",
       "      <td>1</td>\n",
       "      <td>0</td>\n",
       "      <td>1</td>\n",
       "      <td>0</td>\n",
       "      <td>0</td>\n",
       "      <td>0</td>\n",
       "      <td>0</td>\n",
       "      <td>0</td>\n",
       "      <td>28.6199</td>\n",
       "      <td>1</td>\n",
       "    </tr>\n",
       "    <tr>\n",
       "      <th>4</th>\n",
       "      <td>1589</td>\n",
       "      <td>FEMALE</td>\n",
       "      <td>NON-HISPANIC</td>\n",
       "      <td>WHITE</td>\n",
       "      <td>ENGLISH</td>\n",
       "      <td>SINGLE</td>\n",
       "      <td>73.6769</td>\n",
       "      <td>39.5073</td>\n",
       "      <td>NON-TRANSFER</td>\n",
       "      <td>NON-EMERGENCY</td>\n",
       "      <td>...</td>\n",
       "      <td>0</td>\n",
       "      <td>0</td>\n",
       "      <td>0</td>\n",
       "      <td>0</td>\n",
       "      <td>0</td>\n",
       "      <td>1</td>\n",
       "      <td>0</td>\n",
       "      <td>1</td>\n",
       "      <td>NaN</td>\n",
       "      <td>0</td>\n",
       "    </tr>\n",
       "  </tbody>\n",
       "</table>\n",
       "<p>5 rows × 49 columns</p>\n",
       "</div>"
      ],
      "text/plain": [
       "   patient_id     sex     ethnicity   race language marital_status      age  \\\n",
       "0        4757  FEMALE  NON-HISPANIC  WHITE  ENGLISH         SINGLE  43.3690   \n",
       "1        2656  FEMALE  NON-HISPANIC  WHITE  ENGLISH         SINGLE  41.7882   \n",
       "2        9944  FEMALE  NON-HISPANIC  WHITE  ENGLISH         SINGLE  35.8761   \n",
       "3        2065  FEMALE  NON-HISPANIC     AA  ENGLISH       DIVORCED  81.8270   \n",
       "4        1589  FEMALE  NON-HISPANIC  WHITE  ENGLISH         SINGLE  73.6769   \n",
       "\n",
       "       bmi admission_source       emergent  ... valve  coag  obese  wghtloss  \\\n",
       "0  40.6750         TRANSFER  NON-EMERGENCY  ...     0     1      1         1   \n",
       "1  51.3062     NON-TRANSFER  NON-EMERGENCY  ...     0     0      0         0   \n",
       "2  26.2132     NON-TRANSFER  NON-EMERGENCY  ...     0     0      1         0   \n",
       "3  35.5527     NON-TRANSFER  NON-EMERGENCY  ...     1     0      1         0   \n",
       "4  39.5073     NON-TRANSFER  NON-EMERGENCY  ...     0     0      0         0   \n",
       "\n",
       "   lytes  anemia  alc_drug  depress     egfr  aki_surg_disch  \n",
       "0      0       0         0        0  62.8876               0  \n",
       "1      0       0         0        0  81.3574               1  \n",
       "2      0       0         0        0  90.1036               0  \n",
       "3      0       0         0        0  28.6199               1  \n",
       "4      0       1         0        1      NaN               0  \n",
       "\n",
       "[5 rows x 49 columns]"
      ]
     },
     "execution_count": 1,
     "metadata": {},
     "output_type": "execute_result"
    }
   ],
   "source": [
    "import pandas as pd\n",
    "import numpy as np\n",
    "\n",
    "df = pd.read_csv('https://www.dropbox.com/s/ol9cs1sjsr2yhal/data_small.csv?dl=1')\n",
    "df.head()"
   ]
  },
  {
   "cell_type": "markdown",
   "metadata": {},
   "source": [
    "> As an exploratory step, let's take a look at the distribution of our AKI outcome (how prevalent is postoperative AKI?). We'll use the `value_counts` function we saw before to help answer this question."
   ]
  },
  {
   "cell_type": "code",
   "execution_count": 2,
   "metadata": {},
   "outputs": [
    {
     "data": {
      "text/plain": [
       "0    0.8364\n",
       "1    0.1636\n",
       "Name: aki_surg_disch, dtype: float64"
      ]
     },
     "execution_count": 2,
     "metadata": {},
     "output_type": "execute_result"
    }
   ],
   "source": [
    "# The normalize=True parameter divides each count by the total number of samples.\n",
    "df['aki_surg_disch'].value_counts(normalize=True)"
   ]
  },
  {
   "cell_type": "markdown",
   "metadata": {},
   "source": [
    "> We can see from the above that about 16% of the surgical encounters resulted in acute kidney injury."
   ]
  },
  {
   "cell_type": "markdown",
   "metadata": {},
   "source": [
    "## Data preprocessing\n",
    "\n",
    "Before we use our data to train a machine learning model, we must transform the raw data into **features** that an ML model can understand (sometimes these look quite similar, but not always). This critical step is called **data preprocessing**. Since real-world data can be messy, during this phase we also *clean* data to ensure the ML model can learn meaningful patterns.\n",
    "\n",
    "Common data preprocessing steps may include the following (depending on the ML model used):\n",
    "* Removing outliers*\n",
    "* Addressing data missingess\n",
    "* Transforming binary string columns (e.g., sex) into a numerical form that the model can understand.\n",
    "* Transforming many-valued string columns (e.g., race) into a numerical form.\n",
    "* Normalizing input features to give them equal weighting.\n",
    "\n",
    "\\*One common approach to remove outliers in ML projects is to remove observations that fall outside a specified range. In this tutorial, we remove observations whose values are less than the 1st percentile or greater than the 99th percentile.\n",
    "\n",
    "\n",
    "### Addressing missing data\n",
    "\n",
    "* Missing data are common in routinely collected health data\n",
    "    * Many times, missingness can be informative (e.g. a particular test was not ordered because patient was healthy).\n",
    "    * In other cases, missingness may be at random or due to other factors (e.g., lack of routine follow-up)\n",
    "* Some models **require** filling in missing data with imputation methods. Others will gladly accept missing data. The decision of when, and how, to impute missing data is often dependent on the model, data, and problem. \n",
    "* In a Pandas DataFrame, missing values will be represented by `NaN` (*\"Not a Number\"*)\n",
    "\n",
    "One simple, but effective, imputation approach is to replace a patient's missing variable value with a value computed from all other patients. For example, if a patient is missing the `bmi` variable, we might impute the mean value for the `bmi` feature across all other patients. (Recall our Pandas module for other choices!)\n",
    "\n",
    "# ![](../graphics/example_icon.png)\n",
    "Let's use code to replace any missing `bmi` values with the `median` bmi from all other patients. We can accomplish this using some Pandas functions we've already seen, along with the `df.fillna(x)` function, which for a given DataFrame `df`, replaces any missing values with the input value `x`."
   ]
  },
  {
   "cell_type": "code",
   "execution_count": 3,
   "metadata": {},
   "outputs": [
    {
     "data": {
      "text/html": [
       "<div>\n",
       "<style scoped>\n",
       "    .dataframe tbody tr th:only-of-type {\n",
       "        vertical-align: middle;\n",
       "    }\n",
       "\n",
       "    .dataframe tbody tr th {\n",
       "        vertical-align: top;\n",
       "    }\n",
       "\n",
       "    .dataframe thead th {\n",
       "        text-align: right;\n",
       "    }\n",
       "</style>\n",
       "<table border=\"1\" class=\"dataframe\">\n",
       "  <thead>\n",
       "    <tr style=\"text-align: right;\">\n",
       "      <th></th>\n",
       "      <th>patient_id</th>\n",
       "      <th>sex</th>\n",
       "      <th>ethnicity</th>\n",
       "      <th>race</th>\n",
       "      <th>language</th>\n",
       "      <th>marital_status</th>\n",
       "      <th>age</th>\n",
       "      <th>bmi</th>\n",
       "      <th>admission_source</th>\n",
       "      <th>emergent</th>\n",
       "      <th>...</th>\n",
       "      <th>valve</th>\n",
       "      <th>coag</th>\n",
       "      <th>obese</th>\n",
       "      <th>wghtloss</th>\n",
       "      <th>lytes</th>\n",
       "      <th>anemia</th>\n",
       "      <th>alc_drug</th>\n",
       "      <th>depress</th>\n",
       "      <th>egfr</th>\n",
       "      <th>aki_surg_disch</th>\n",
       "    </tr>\n",
       "  </thead>\n",
       "  <tbody>\n",
       "    <tr>\n",
       "      <th>30</th>\n",
       "      <td>1803</td>\n",
       "      <td>FEMALE</td>\n",
       "      <td>NON-HISPANIC</td>\n",
       "      <td>WHITE</td>\n",
       "      <td>ENGLISH</td>\n",
       "      <td>DIVORCED</td>\n",
       "      <td>60.0373</td>\n",
       "      <td>NaN</td>\n",
       "      <td>NON-TRANSFER</td>\n",
       "      <td>EMERGENCY</td>\n",
       "      <td>...</td>\n",
       "      <td>0</td>\n",
       "      <td>0</td>\n",
       "      <td>0</td>\n",
       "      <td>0</td>\n",
       "      <td>0</td>\n",
       "      <td>0</td>\n",
       "      <td>0</td>\n",
       "      <td>0</td>\n",
       "      <td>88.1871</td>\n",
       "      <td>0</td>\n",
       "    </tr>\n",
       "    <tr>\n",
       "      <th>48</th>\n",
       "      <td>2050</td>\n",
       "      <td>MALE</td>\n",
       "      <td>HISPANIC</td>\n",
       "      <td>WHITE</td>\n",
       "      <td>ENGLISH</td>\n",
       "      <td>SINGLE</td>\n",
       "      <td>61.8499</td>\n",
       "      <td>NaN</td>\n",
       "      <td>TRANSFER</td>\n",
       "      <td>NON-EMERGENCY</td>\n",
       "      <td>...</td>\n",
       "      <td>0</td>\n",
       "      <td>0</td>\n",
       "      <td>0</td>\n",
       "      <td>0</td>\n",
       "      <td>1</td>\n",
       "      <td>0</td>\n",
       "      <td>0</td>\n",
       "      <td>0</td>\n",
       "      <td>NaN</td>\n",
       "      <td>1</td>\n",
       "    </tr>\n",
       "    <tr>\n",
       "      <th>52</th>\n",
       "      <td>5685</td>\n",
       "      <td>MALE</td>\n",
       "      <td>NON-HISPANIC</td>\n",
       "      <td>WHITE</td>\n",
       "      <td>ENGLISH</td>\n",
       "      <td>SINGLE</td>\n",
       "      <td>48.5185</td>\n",
       "      <td>NaN</td>\n",
       "      <td>NON-TRANSFER</td>\n",
       "      <td>NON-EMERGENCY</td>\n",
       "      <td>...</td>\n",
       "      <td>0</td>\n",
       "      <td>0</td>\n",
       "      <td>1</td>\n",
       "      <td>0</td>\n",
       "      <td>0</td>\n",
       "      <td>0</td>\n",
       "      <td>0</td>\n",
       "      <td>0</td>\n",
       "      <td>NaN</td>\n",
       "      <td>0</td>\n",
       "    </tr>\n",
       "    <tr>\n",
       "      <th>59</th>\n",
       "      <td>324</td>\n",
       "      <td>MALE</td>\n",
       "      <td>NON-HISPANIC</td>\n",
       "      <td>WHITE</td>\n",
       "      <td>ENGLISH</td>\n",
       "      <td>MARRIED</td>\n",
       "      <td>29.6097</td>\n",
       "      <td>NaN</td>\n",
       "      <td>NON-TRANSFER</td>\n",
       "      <td>NON-EMERGENCY</td>\n",
       "      <td>...</td>\n",
       "      <td>1</td>\n",
       "      <td>0</td>\n",
       "      <td>1</td>\n",
       "      <td>0</td>\n",
       "      <td>0</td>\n",
       "      <td>0</td>\n",
       "      <td>0</td>\n",
       "      <td>0</td>\n",
       "      <td>NaN</td>\n",
       "      <td>0</td>\n",
       "    </tr>\n",
       "    <tr>\n",
       "      <th>83</th>\n",
       "      <td>786</td>\n",
       "      <td>FEMALE</td>\n",
       "      <td>NON-HISPANIC</td>\n",
       "      <td>WHITE</td>\n",
       "      <td>ENGLISH</td>\n",
       "      <td>DIVORCED</td>\n",
       "      <td>46.2311</td>\n",
       "      <td>NaN</td>\n",
       "      <td>NON-TRANSFER</td>\n",
       "      <td>NON-EMERGENCY</td>\n",
       "      <td>...</td>\n",
       "      <td>0</td>\n",
       "      <td>0</td>\n",
       "      <td>0</td>\n",
       "      <td>0</td>\n",
       "      <td>1</td>\n",
       "      <td>0</td>\n",
       "      <td>0</td>\n",
       "      <td>0</td>\n",
       "      <td>87.5409</td>\n",
       "      <td>1</td>\n",
       "    </tr>\n",
       "  </tbody>\n",
       "</table>\n",
       "<p>5 rows × 49 columns</p>\n",
       "</div>"
      ],
      "text/plain": [
       "    patient_id     sex     ethnicity   race language marital_status      age  \\\n",
       "30        1803  FEMALE  NON-HISPANIC  WHITE  ENGLISH       DIVORCED  60.0373   \n",
       "48        2050    MALE      HISPANIC  WHITE  ENGLISH         SINGLE  61.8499   \n",
       "52        5685    MALE  NON-HISPANIC  WHITE  ENGLISH         SINGLE  48.5185   \n",
       "59         324    MALE  NON-HISPANIC  WHITE  ENGLISH        MARRIED  29.6097   \n",
       "83         786  FEMALE  NON-HISPANIC  WHITE  ENGLISH       DIVORCED  46.2311   \n",
       "\n",
       "    bmi admission_source       emergent  ... valve  coag  obese  wghtloss  \\\n",
       "30  NaN     NON-TRANSFER      EMERGENCY  ...     0     0      0         0   \n",
       "48  NaN         TRANSFER  NON-EMERGENCY  ...     0     0      0         0   \n",
       "52  NaN     NON-TRANSFER  NON-EMERGENCY  ...     0     0      1         0   \n",
       "59  NaN     NON-TRANSFER  NON-EMERGENCY  ...     1     0      1         0   \n",
       "83  NaN     NON-TRANSFER  NON-EMERGENCY  ...     0     0      0         0   \n",
       "\n",
       "    lytes  anemia  alc_drug  depress     egfr  aki_surg_disch  \n",
       "30      0       0         0        0  88.1871               0  \n",
       "48      1       0         0        0      NaN               1  \n",
       "52      0       0         0        0      NaN               0  \n",
       "59      0       0         0        0      NaN               0  \n",
       "83      1       0         0        0  87.5409               1  \n",
       "\n",
       "[5 rows x 49 columns]"
      ]
     },
     "execution_count": 3,
     "metadata": {},
     "output_type": "execute_result"
    }
   ],
   "source": [
    "# We can use Pandas filtering to see examples of where bmi is missing. (Notice the NaN)\n",
    "df[pd.isnull(df['bmi'])].head()"
   ]
  },
  {
   "cell_type": "code",
   "execution_count": 4,
   "metadata": {},
   "outputs": [
    {
     "name": "stdout",
     "output_type": "stream",
     "text": [
      "29.3395\n"
     ]
    }
   ],
   "source": [
    "# Compute the median BMI (note: missing values are ignored in this calculation)\n",
    "bmi_median = df['bmi'].median()\n",
    "print(bmi_median)"
   ]
  },
  {
   "cell_type": "code",
   "execution_count": 5,
   "metadata": {},
   "outputs": [],
   "source": [
    "# Use fillna to replace any missing BMI values with the median BMI value.\n",
    "df['bmi'] = df['bmi'].fillna(bmi_median)"
   ]
  },
  {
   "cell_type": "code",
   "execution_count": 6,
   "metadata": {},
   "outputs": [
    {
     "data": {
      "text/html": [
       "<div>\n",
       "<style scoped>\n",
       "    .dataframe tbody tr th:only-of-type {\n",
       "        vertical-align: middle;\n",
       "    }\n",
       "\n",
       "    .dataframe tbody tr th {\n",
       "        vertical-align: top;\n",
       "    }\n",
       "\n",
       "    .dataframe thead th {\n",
       "        text-align: right;\n",
       "    }\n",
       "</style>\n",
       "<table border=\"1\" class=\"dataframe\">\n",
       "  <thead>\n",
       "    <tr style=\"text-align: right;\">\n",
       "      <th></th>\n",
       "      <th>patient_id</th>\n",
       "      <th>sex</th>\n",
       "      <th>ethnicity</th>\n",
       "      <th>race</th>\n",
       "      <th>language</th>\n",
       "      <th>marital_status</th>\n",
       "      <th>age</th>\n",
       "      <th>bmi</th>\n",
       "      <th>admission_source</th>\n",
       "      <th>emergent</th>\n",
       "      <th>...</th>\n",
       "      <th>valve</th>\n",
       "      <th>coag</th>\n",
       "      <th>obese</th>\n",
       "      <th>wghtloss</th>\n",
       "      <th>lytes</th>\n",
       "      <th>anemia</th>\n",
       "      <th>alc_drug</th>\n",
       "      <th>depress</th>\n",
       "      <th>egfr</th>\n",
       "      <th>aki_surg_disch</th>\n",
       "    </tr>\n",
       "  </thead>\n",
       "  <tbody>\n",
       "  </tbody>\n",
       "</table>\n",
       "<p>0 rows × 49 columns</p>\n",
       "</div>"
      ],
      "text/plain": [
       "Empty DataFrame\n",
       "Columns: [patient_id, sex, ethnicity, race, language, marital_status, age, bmi, admission_source, emergent, surgery_type, rural, distance_from_shands, median_income, perc_below_poverty, prop_black, prop_hisp, aceis_arbs, aminoglycosides, antiemetics, aspirin, beta_blockers, bicarbonates, diuretics, pressors_inotropes, statins, vancomycin, nephrotoxic, imi, ichf, ipvd, icvd, icpd, imcancer, icancer, liverd, diabetes, cci, htn_c, valve, coag, obese, wghtloss, lytes, anemia, alc_drug, depress, egfr, aki_surg_disch]\n",
       "Index: []\n",
       "\n",
       "[0 rows x 49 columns]"
      ]
     },
     "execution_count": 6,
     "metadata": {},
     "output_type": "execute_result"
    }
   ],
   "source": [
    "# Let's re-run this code to see where BMI is still missing\n",
    "df[pd.isnull(df['bmi'])]"
   ]
  },
  {
   "cell_type": "markdown",
   "metadata": {},
   "source": [
    "BMI is no longer missing! Every patient now has a BMI value for passing into the model.\n",
    "\n",
    "# ![](../graphics/note_icon.png) \n",
    "> There are many alternative approaches for missing data imputation, including k-Nearest neighbors (KNN) and multiple imputation by chained equation (MICE)."
   ]
  },
  {
   "cell_type": "markdown",
   "metadata": {},
   "source": [
    "### Data Transformation\n",
    "In general, machine learning models are great at learning from **numerical** data (e.g., 0, 1, 0.5) . However, many important clinical characteristics are stored as **categorical** data (e.g., 'MALE', 'DIVORCED'). For many models, we must convert the categorical values to numerical features through a **data transformation** process.\n",
    "\n",
    "For categorical variables with **only two** options, we can assign one of the options to be **0**, and the other to be **1**.\n",
    "\n",
    "Let's see an example of how we would do this for the `sex` variable, which in our particular dataset contains only two values: `MALE` and `FEMALE`:"
   ]
  },
  {
   "cell_type": "code",
   "execution_count": 7,
   "metadata": {},
   "outputs": [
    {
     "name": "stdout",
     "output_type": "stream",
     "text": [
      "['FEMALE' 'MALE']\n",
      "[0 1]\n"
     ]
    }
   ],
   "source": [
    "# Show the unique values of the sex variable before transformation\n",
    "print(df['sex'].unique())\n",
    "\n",
    "# We can use the replace function to convert strings to binary numbers\n",
    "df['sex'] = df['sex'].replace({'FEMALE' : 0, 'MALE' : 1})\n",
    "\n",
    "# Show the unique values of the sex variable after transformation\n",
    "print(df['sex'].unique())"
   ]
  },
  {
   "cell_type": "markdown",
   "metadata": {},
   "source": [
    "Great! But what if our categorical variable contains more than two unique values?\n",
    "* One option would be to replace them with more numbers (for example: 0, 1, 2, 3, ...)\n",
    "* However, doing this may confuse some models due to implicit ordering and hierarchies\n",
    "    * If 0=apple, 1=banana, 2=pear, 3=tomato, then does a tomato equal three bananas? Is a pear worth more than a banana which is worth more than an apple? \n",
    "\n",
    "One solution is called **one-hot encoding**:\n",
    "1. For a single categorical variable (e.g., `marital_status`), create a separate column in the dataset for each category of a categorical variable.\n",
    "    * If there are 4 options, then we create 4 new columns.\n",
    "2. The values of these columns are zero **except for** the column corresponding to the original value.\n",
    "\n",
    "Let's see this in action:"
   ]
  },
  {
   "cell_type": "code",
   "execution_count": 8,
   "metadata": {},
   "outputs": [
    {
     "name": "stdout",
     "output_type": "stream",
     "text": [
      "0      SINGLE\n",
      "1      SINGLE\n",
      "2      SINGLE\n",
      "3    DIVORCED\n",
      "4      SINGLE\n",
      "Name: marital_status, dtype: object\n",
      "   DIVORCED  MARRIED  MISSING  SINGLE\n",
      "0         0        0        0       1\n",
      "1         0        0        0       1\n",
      "2         0        0        0       1\n",
      "3         1        0        0       0\n",
      "4         0        0        0       1\n"
     ]
    }
   ],
   "source": [
    "# Show the first 5 values of marital_status before one-hot encoding\n",
    "print(df['marital_status'].head())\n",
    "\n",
    "# Use the get_dummies() function to perform one-hot encoding on the marital_status column.\n",
    "marital_status_transformed = pd.get_dummies(df['marital_status'])\n",
    "\n",
    "# Show the first 5 values of marital_status after one-hot encoding\n",
    "print(marital_status_transformed.head())"
   ]
  },
  {
   "cell_type": "markdown",
   "metadata": {},
   "source": [
    "### Let's skip ahead.\n",
    "Data analysis, imputation, transformation, and preprocessing take a large portion of any AI/ML project. We only covered a few steps of the process.\n",
    "\n",
    "🕑 In in the interest of time, let's load a new dataset that has already been preprocessed."
   ]
  },
  {
   "cell_type": "code",
   "execution_count": 9,
   "metadata": {},
   "outputs": [
    {
     "data": {
      "text/html": [
       "<div>\n",
       "<style scoped>\n",
       "    .dataframe tbody tr th:only-of-type {\n",
       "        vertical-align: middle;\n",
       "    }\n",
       "\n",
       "    .dataframe tbody tr th {\n",
       "        vertical-align: top;\n",
       "    }\n",
       "\n",
       "    .dataframe thead th {\n",
       "        text-align: right;\n",
       "    }\n",
       "</style>\n",
       "<table border=\"1\" class=\"dataframe\">\n",
       "  <thead>\n",
       "    <tr style=\"text-align: right;\">\n",
       "      <th></th>\n",
       "      <th>patient_id</th>\n",
       "      <th>sex</th>\n",
       "      <th>ethnicity</th>\n",
       "      <th>race</th>\n",
       "      <th>language</th>\n",
       "      <th>marital_status</th>\n",
       "      <th>age</th>\n",
       "      <th>bmi</th>\n",
       "      <th>admission_source</th>\n",
       "      <th>emergent</th>\n",
       "      <th>...</th>\n",
       "      <th>valve</th>\n",
       "      <th>coag</th>\n",
       "      <th>obese</th>\n",
       "      <th>wghtloss</th>\n",
       "      <th>lytes</th>\n",
       "      <th>anemia</th>\n",
       "      <th>alc_drug</th>\n",
       "      <th>depress</th>\n",
       "      <th>egfr</th>\n",
       "      <th>aki_surg_disch</th>\n",
       "    </tr>\n",
       "  </thead>\n",
       "  <tbody>\n",
       "    <tr>\n",
       "      <th>0</th>\n",
       "      <td>8028</td>\n",
       "      <td>-0.774396</td>\n",
       "      <td>0.280999</td>\n",
       "      <td>-1.761337</td>\n",
       "      <td>2.041703</td>\n",
       "      <td>-0.142593</td>\n",
       "      <td>0.681428</td>\n",
       "      <td>-0.306080</td>\n",
       "      <td>-0.131796</td>\n",
       "      <td>0.444606</td>\n",
       "      <td>...</td>\n",
       "      <td>-1.426796</td>\n",
       "      <td>0.095069</td>\n",
       "      <td>0.201282</td>\n",
       "      <td>1.528879</td>\n",
       "      <td>0.520542</td>\n",
       "      <td>-0.333964</td>\n",
       "      <td>0.307017</td>\n",
       "      <td>0.639043</td>\n",
       "      <td>0.401557</td>\n",
       "      <td>0</td>\n",
       "    </tr>\n",
       "    <tr>\n",
       "      <th>1</th>\n",
       "      <td>2137</td>\n",
       "      <td>-0.891309</td>\n",
       "      <td>-0.588060</td>\n",
       "      <td>-1.434109</td>\n",
       "      <td>-0.870289</td>\n",
       "      <td>0.881813</td>\n",
       "      <td>-1.528051</td>\n",
       "      <td>-0.220767</td>\n",
       "      <td>-1.635882</td>\n",
       "      <td>-2.385601</td>\n",
       "      <td>...</td>\n",
       "      <td>0.240929</td>\n",
       "      <td>2.657194</td>\n",
       "      <td>0.428401</td>\n",
       "      <td>0.293965</td>\n",
       "      <td>-0.208414</td>\n",
       "      <td>0.902814</td>\n",
       "      <td>-0.432256</td>\n",
       "      <td>-1.643186</td>\n",
       "      <td>-1.679018</td>\n",
       "      <td>0</td>\n",
       "    </tr>\n",
       "    <tr>\n",
       "      <th>2</th>\n",
       "      <td>9976</td>\n",
       "      <td>0.708010</td>\n",
       "      <td>-1.135709</td>\n",
       "      <td>1.902568</td>\n",
       "      <td>-0.887270</td>\n",
       "      <td>-0.151637</td>\n",
       "      <td>-0.388248</td>\n",
       "      <td>0.907607</td>\n",
       "      <td>0.408247</td>\n",
       "      <td>-0.800785</td>\n",
       "      <td>...</td>\n",
       "      <td>0.387357</td>\n",
       "      <td>-0.269944</td>\n",
       "      <td>-1.101854</td>\n",
       "      <td>-0.738324</td>\n",
       "      <td>-0.154997</td>\n",
       "      <td>0.058208</td>\n",
       "      <td>1.137801</td>\n",
       "      <td>-1.117425</td>\n",
       "      <td>1.998936</td>\n",
       "      <td>0</td>\n",
       "    </tr>\n",
       "    <tr>\n",
       "      <th>3</th>\n",
       "      <td>4709</td>\n",
       "      <td>-0.315597</td>\n",
       "      <td>-0.228130</td>\n",
       "      <td>2.225537</td>\n",
       "      <td>0.724888</td>\n",
       "      <td>-0.125359</td>\n",
       "      <td>1.033135</td>\n",
       "      <td>0.919918</td>\n",
       "      <td>0.103634</td>\n",
       "      <td>0.313834</td>\n",
       "      <td>...</td>\n",
       "      <td>1.639858</td>\n",
       "      <td>0.582729</td>\n",
       "      <td>2.035244</td>\n",
       "      <td>-0.201218</td>\n",
       "      <td>-0.181364</td>\n",
       "      <td>-0.412679</td>\n",
       "      <td>0.234088</td>\n",
       "      <td>0.121205</td>\n",
       "      <td>-0.255220</td>\n",
       "      <td>0</td>\n",
       "    </tr>\n",
       "    <tr>\n",
       "      <th>4</th>\n",
       "      <td>9903</td>\n",
       "      <td>-0.593951</td>\n",
       "      <td>-2.255714</td>\n",
       "      <td>0.921554</td>\n",
       "      <td>2.476165</td>\n",
       "      <td>-0.865779</td>\n",
       "      <td>2.163047</td>\n",
       "      <td>1.544717</td>\n",
       "      <td>0.809176</td>\n",
       "      <td>0.096506</td>\n",
       "      <td>...</td>\n",
       "      <td>0.581659</td>\n",
       "      <td>0.998988</td>\n",
       "      <td>-0.746183</td>\n",
       "      <td>0.623479</td>\n",
       "      <td>-0.575879</td>\n",
       "      <td>-1.581712</td>\n",
       "      <td>0.281210</td>\n",
       "      <td>-0.326369</td>\n",
       "      <td>0.530276</td>\n",
       "      <td>0</td>\n",
       "    </tr>\n",
       "  </tbody>\n",
       "</table>\n",
       "<p>5 rows × 49 columns</p>\n",
       "</div>"
      ],
      "text/plain": [
       "   patient_id       sex  ethnicity      race  language  marital_status  \\\n",
       "0        8028 -0.774396   0.280999 -1.761337  2.041703       -0.142593   \n",
       "1        2137 -0.891309  -0.588060 -1.434109 -0.870289        0.881813   \n",
       "2        9976  0.708010  -1.135709  1.902568 -0.887270       -0.151637   \n",
       "3        4709 -0.315597  -0.228130  2.225537  0.724888       -0.125359   \n",
       "4        9903 -0.593951  -2.255714  0.921554  2.476165       -0.865779   \n",
       "\n",
       "        age       bmi  admission_source  emergent  ...     valve      coag  \\\n",
       "0  0.681428 -0.306080         -0.131796  0.444606  ... -1.426796  0.095069   \n",
       "1 -1.528051 -0.220767         -1.635882 -2.385601  ...  0.240929  2.657194   \n",
       "2 -0.388248  0.907607          0.408247 -0.800785  ...  0.387357 -0.269944   \n",
       "3  1.033135  0.919918          0.103634  0.313834  ...  1.639858  0.582729   \n",
       "4  2.163047  1.544717          0.809176  0.096506  ...  0.581659  0.998988   \n",
       "\n",
       "      obese  wghtloss     lytes    anemia  alc_drug   depress      egfr  \\\n",
       "0  0.201282  1.528879  0.520542 -0.333964  0.307017  0.639043  0.401557   \n",
       "1  0.428401  0.293965 -0.208414  0.902814 -0.432256 -1.643186 -1.679018   \n",
       "2 -1.101854 -0.738324 -0.154997  0.058208  1.137801 -1.117425  1.998936   \n",
       "3  2.035244 -0.201218 -0.181364 -0.412679  0.234088  0.121205 -0.255220   \n",
       "4 -0.746183  0.623479 -0.575879 -1.581712  0.281210 -0.326369  0.530276   \n",
       "\n",
       "   aki_surg_disch  \n",
       "0               0  \n",
       "1               0  \n",
       "2               0  \n",
       "3               0  \n",
       "4               0  \n",
       "\n",
       "[5 rows x 49 columns]"
      ]
     },
     "execution_count": 9,
     "metadata": {},
     "output_type": "execute_result"
    }
   ],
   "source": [
    "df = pd.read_csv('https://www.dropbox.com/s/smxqzfipqc7bznf/data_small_processed.csv?dl=1')\n",
    "df.head()"
   ]
  },
  {
   "cell_type": "markdown",
   "metadata": {},
   "source": [
    "## Model development"
   ]
  },
  {
   "cell_type": "markdown",
   "metadata": {},
   "source": [
    "It's now time to train our first machine learning models!\n",
    "\n",
    "We're going to look at two different models to predict postoperative AKI from our patient characteristics contained in `df`:\n",
    "* **XGBoost:** A popular tree-based model that is known to work well with tabular datasets like ours.\n",
    "* **Multi-layer perceptron (MLP):** A simple artificial neural network (ANN) model. This model is considered to be one of the simplest forms of **deep learning (DL)**."
   ]
  },
  {
   "cell_type": "markdown",
   "metadata": {
    "tags": []
   },
   "source": [
    "### Splitting the dataset\n",
    "\n",
    "* **Recall** that ML models adjust their internal parameters by feeding in many examples of inputs $X$ and corresponding output $y$. This is called the **training** process. With enough time and training examples, the model can learn associations between inputs and outputs that can help it make a prediction on new data it hasn't ever seen before.\n",
    "\n",
    "* To evaluate how good our ML model is, we will **test** it on a set of examples that it has never seen before (known as the **test set**), and for each patient in the test set, compare the model's predicted outcome $\\hat{y}$ with the true patient outcome $y$.\n",
    "\n",
    "* With enough testing examples, we can calculate performance metrics such as accuracy and other diagnostic metrics like AUC, sensitivity, and specificity.\n",
    "\n",
    "Let's take our dataset and prepare it for building our ML model by doing a few final preprocessing items:\n",
    "* Convert the pandas DataFrame into two NumPy arrays: `X` (inputs) and `y` (AKI outcome)\n",
    "* Split X and y into training and testing sets. We'll have four variables after this step:\n",
    "    * `X_train` and `y_train`: the training set\n",
    "    * `X_test` and `y_test`: the testing set\n",
    "    * We'll arbitrarily use 20% of the dataset for testing.\n",
    "\n",
    "#### ![](../graphics/note_icon.png)\n",
    "> Some of this code may seem unfamiliar to you. That's OK! Follow along with the comments to understand each step."
   ]
  },
  {
   "cell_type": "code",
   "execution_count": 10,
   "metadata": {},
   "outputs": [],
   "source": [
    "from sklearn.model_selection import train_test_split # We'll use this function to create the training and testing sets\n",
    "\n",
    "# Build X (an array/matrix) by taking the values from the entire df DataFrame EXCEPT FOR the first (patient id) and last (AKI outcome) columns\n",
    "X = df.iloc[:, 1:-1].values\n",
    "\n",
    "# Build y (a one-dimensional array) by taking only the final column ('aki_surg_disch'). The order of these outcomes exactly matches the order of the rows in X.\n",
    "y = df.iloc[:, -1].values\n",
    "\n",
    "# Split X and y into training and testing sets, by using a random 20% of the dataset for testing.\n",
    "X_train, X_test, y_train, y_test = train_test_split(X, y, test_size=0.20, random_state=1)"
   ]
  },
  {
   "cell_type": "markdown",
   "metadata": {},
   "source": [
    "## Creating an XGBoost Model"
   ]
  },
  {
   "cell_type": "markdown",
   "metadata": {},
   "source": [
    "* Let's train our first XGBoost model to predict postoperative AKI from our patient features.\n",
    "* We're going to use the popular Python library `xgboost`, which makes it very easy to train an ML model ***in a single line of code!***"
   ]
  },
  {
   "cell_type": "code",
   "execution_count": 11,
   "metadata": {},
   "outputs": [
    {
     "data": {
      "text/html": [
       "<style>#sk-container-id-1 {color: black;background-color: white;}#sk-container-id-1 pre{padding: 0;}#sk-container-id-1 div.sk-toggleable {background-color: white;}#sk-container-id-1 label.sk-toggleable__label {cursor: pointer;display: block;width: 100%;margin-bottom: 0;padding: 0.3em;box-sizing: border-box;text-align: center;}#sk-container-id-1 label.sk-toggleable__label-arrow:before {content: \"▸\";float: left;margin-right: 0.25em;color: #696969;}#sk-container-id-1 label.sk-toggleable__label-arrow:hover:before {color: black;}#sk-container-id-1 div.sk-estimator:hover label.sk-toggleable__label-arrow:before {color: black;}#sk-container-id-1 div.sk-toggleable__content {max-height: 0;max-width: 0;overflow: hidden;text-align: left;background-color: #f0f8ff;}#sk-container-id-1 div.sk-toggleable__content pre {margin: 0.2em;color: black;border-radius: 0.25em;background-color: #f0f8ff;}#sk-container-id-1 input.sk-toggleable__control:checked~div.sk-toggleable__content {max-height: 200px;max-width: 100%;overflow: auto;}#sk-container-id-1 input.sk-toggleable__control:checked~label.sk-toggleable__label-arrow:before {content: \"▾\";}#sk-container-id-1 div.sk-estimator input.sk-toggleable__control:checked~label.sk-toggleable__label {background-color: #d4ebff;}#sk-container-id-1 div.sk-label input.sk-toggleable__control:checked~label.sk-toggleable__label {background-color: #d4ebff;}#sk-container-id-1 input.sk-hidden--visually {border: 0;clip: rect(1px 1px 1px 1px);clip: rect(1px, 1px, 1px, 1px);height: 1px;margin: -1px;overflow: hidden;padding: 0;position: absolute;width: 1px;}#sk-container-id-1 div.sk-estimator {font-family: monospace;background-color: #f0f8ff;border: 1px dotted black;border-radius: 0.25em;box-sizing: border-box;margin-bottom: 0.5em;}#sk-container-id-1 div.sk-estimator:hover {background-color: #d4ebff;}#sk-container-id-1 div.sk-parallel-item::after {content: \"\";width: 100%;border-bottom: 1px solid gray;flex-grow: 1;}#sk-container-id-1 div.sk-label:hover label.sk-toggleable__label {background-color: #d4ebff;}#sk-container-id-1 div.sk-serial::before {content: \"\";position: absolute;border-left: 1px solid gray;box-sizing: border-box;top: 0;bottom: 0;left: 50%;z-index: 0;}#sk-container-id-1 div.sk-serial {display: flex;flex-direction: column;align-items: center;background-color: white;padding-right: 0.2em;padding-left: 0.2em;position: relative;}#sk-container-id-1 div.sk-item {position: relative;z-index: 1;}#sk-container-id-1 div.sk-parallel {display: flex;align-items: stretch;justify-content: center;background-color: white;position: relative;}#sk-container-id-1 div.sk-item::before, #sk-container-id-1 div.sk-parallel-item::before {content: \"\";position: absolute;border-left: 1px solid gray;box-sizing: border-box;top: 0;bottom: 0;left: 50%;z-index: -1;}#sk-container-id-1 div.sk-parallel-item {display: flex;flex-direction: column;z-index: 1;position: relative;background-color: white;}#sk-container-id-1 div.sk-parallel-item:first-child::after {align-self: flex-end;width: 50%;}#sk-container-id-1 div.sk-parallel-item:last-child::after {align-self: flex-start;width: 50%;}#sk-container-id-1 div.sk-parallel-item:only-child::after {width: 0;}#sk-container-id-1 div.sk-dashed-wrapped {border: 1px dashed gray;margin: 0 0.4em 0.5em 0.4em;box-sizing: border-box;padding-bottom: 0.4em;background-color: white;}#sk-container-id-1 div.sk-label label {font-family: monospace;font-weight: bold;display: inline-block;line-height: 1.2em;}#sk-container-id-1 div.sk-label-container {text-align: center;}#sk-container-id-1 div.sk-container {/* jupyter's `normalize.less` sets `[hidden] { display: none; }` but bootstrap.min.css set `[hidden] { display: none !important; }` so we also need the `!important` here to be able to override the default hidden behavior on the sphinx rendered scikit-learn.org. See: https://github.com/scikit-learn/scikit-learn/issues/21755 */display: inline-block !important;position: relative;}#sk-container-id-1 div.sk-text-repr-fallback {display: none;}</style><div id=\"sk-container-id-1\" class=\"sk-top-container\"><div class=\"sk-text-repr-fallback\"><pre>XGBClassifier(base_score=None, booster=None, callbacks=None,\n",
       "              colsample_bylevel=None, colsample_bynode=None,\n",
       "              colsample_bytree=None, early_stopping_rounds=None,\n",
       "              enable_categorical=False, eval_metric=None, feature_types=None,\n",
       "              gamma=None, gpu_id=None, grow_policy=None, importance_type=None,\n",
       "              interaction_constraints=None, learning_rate=None, max_bin=None,\n",
       "              max_cat_threshold=None, max_cat_to_onehot=None,\n",
       "              max_delta_step=None, max_depth=None, max_leaves=None,\n",
       "              min_child_weight=None, missing=nan, monotone_constraints=None,\n",
       "              n_estimators=100, n_jobs=None, num_parallel_tree=None,\n",
       "              predictor=None, random_state=None, ...)</pre><b>In a Jupyter environment, please rerun this cell to show the HTML representation or trust the notebook. <br />On GitHub, the HTML representation is unable to render, please try loading this page with nbviewer.org.</b></div><div class=\"sk-container\" hidden><div class=\"sk-item\"><div class=\"sk-estimator sk-toggleable\"><input class=\"sk-toggleable__control sk-hidden--visually\" id=\"sk-estimator-id-1\" type=\"checkbox\" checked><label for=\"sk-estimator-id-1\" class=\"sk-toggleable__label sk-toggleable__label-arrow\">XGBClassifier</label><div class=\"sk-toggleable__content\"><pre>XGBClassifier(base_score=None, booster=None, callbacks=None,\n",
       "              colsample_bylevel=None, colsample_bynode=None,\n",
       "              colsample_bytree=None, early_stopping_rounds=None,\n",
       "              enable_categorical=False, eval_metric=None, feature_types=None,\n",
       "              gamma=None, gpu_id=None, grow_policy=None, importance_type=None,\n",
       "              interaction_constraints=None, learning_rate=None, max_bin=None,\n",
       "              max_cat_threshold=None, max_cat_to_onehot=None,\n",
       "              max_delta_step=None, max_depth=None, max_leaves=None,\n",
       "              min_child_weight=None, missing=nan, monotone_constraints=None,\n",
       "              n_estimators=100, n_jobs=None, num_parallel_tree=None,\n",
       "              predictor=None, random_state=None, ...)</pre></div></div></div></div></div>"
      ],
      "text/plain": [
       "XGBClassifier(base_score=None, booster=None, callbacks=None,\n",
       "              colsample_bylevel=None, colsample_bynode=None,\n",
       "              colsample_bytree=None, early_stopping_rounds=None,\n",
       "              enable_categorical=False, eval_metric=None, feature_types=None,\n",
       "              gamma=None, gpu_id=None, grow_policy=None, importance_type=None,\n",
       "              interaction_constraints=None, learning_rate=None, max_bin=None,\n",
       "              max_cat_threshold=None, max_cat_to_onehot=None,\n",
       "              max_delta_step=None, max_depth=None, max_leaves=None,\n",
       "              min_child_weight=None, missing=nan, monotone_constraints=None,\n",
       "              n_estimators=100, n_jobs=None, num_parallel_tree=None,\n",
       "              predictor=None, random_state=None, ...)"
      ]
     },
     "execution_count": 11,
     "metadata": {},
     "output_type": "execute_result"
    }
   ],
   "source": [
    "import xgboost as xgb\n",
    "\n",
    "# Create our XGBoost prediction model and assign it to variable xgb\n",
    "xgb = xgb.XGBClassifier()\n",
    "\n",
    "# Train the model using the training dataset\n",
    "xgb.fit(X_train, y_train)"
   ]
  },
  {
   "cell_type": "markdown",
   "metadata": {},
   "source": [
    "That was easy! But is this model any good?\n",
    "\n",
    "To evaluate the performance of our model, we need to compare two quantities:  \n",
    "* $y$, the true outcomes of our testing set patients. In our code, we'll call this list `y_true`.\n",
    "* $\\hat{y}$, our model's **predicted** outcomes for the testing set patients. We'll call this `y_pred` (predicted).\n",
    "\n",
    "The XGBoost model has an easy function called `score` that computes the accuracy on a test dataset."
   ]
  },
  {
   "cell_type": "code",
   "execution_count": 12,
   "metadata": {},
   "outputs": [
    {
     "data": {
      "text/plain": [
       "0.829"
      ]
     },
     "execution_count": 12,
     "metadata": {},
     "output_type": "execute_result"
    }
   ],
   "source": [
    "# This will show our model's accuracy on the test set.\n",
    "xgb.score(X_test, y_test)"
   ]
  },
  {
   "cell_type": "markdown",
   "metadata": {},
   "source": [
    "### Feature importance\n",
    "* We now have our trained XGBoost model, and know how accurate it is at making predictions, but we don't understand **why** it predicts certain outcomes for certain patients.\n",
    "* For this, we need to turn to the field of **explainable AI (XAI)**, an emerging and active field of AI research.\n",
    "* In this module, we'll examine one of the simplest forms of explainability, which looks at the model's weight it assigns to each feature.\n",
    "* Every XGBoost model has a built-in *attribute* variable for this: `feature_importances_` (for convenience, we'll reassign the feature importances to a variable `F`)."
   ]
  },
  {
   "cell_type": "code",
   "execution_count": 13,
   "metadata": {},
   "outputs": [
    {
     "name": "stdout",
     "output_type": "stream",
     "text": [
      "[0.02006534 0.0227169  0.01801753 0.02362856 0.0168312  0.0192095\n",
      " 0.02053335 0.02513116 0.02204197 0.02237717 0.01894541 0.02156862\n",
      " 0.02656651 0.01853822 0.01974279 0.01912974 0.02196527 0.01917675\n",
      " 0.02168204 0.02008043 0.02251171 0.0208749  0.02169918 0.02325575\n",
      " 0.02268388 0.02035919 0.02334738 0.01918193 0.01700873 0.02299177\n",
      " 0.0197109  0.02252468 0.02092659 0.01946699 0.02139581 0.02546264\n",
      " 0.02221232 0.02160385 0.02234855 0.02004287 0.0221352  0.02220558\n",
      " 0.02131373 0.02628263 0.02159233 0.01999652 0.01891599]\n"
     ]
    }
   ],
   "source": [
    "# Compute feature importances\n",
    "F = xgb.feature_importances_\n",
    "\n",
    "# Take a look at the feature importances.\n",
    "# The scores are in the order of the columns of our input data.\n",
    "print(F)"
   ]
  },
  {
   "cell_type": "markdown",
   "metadata": {},
   "source": [
    "* To make this more informative, we can map these scores to their original feature names and generate a plot to visually compare the importance of each feature.\n",
    "* Let's do this for the model's top 10 features.\n",
    "\n",
    "#### ![](../graphics/note_icon.png)\n",
    "> Some of this code will be new. It's OK to just follow along!"
   ]
  },
  {
   "cell_type": "code",
   "execution_count": 14,
   "metadata": {},
   "outputs": [
    {
     "data": {
      "text/plain": [
       "<Axes: ylabel='feature'>"
      ]
     },
     "execution_count": 14,
     "metadata": {},
     "output_type": "execute_result"
    },
    {
     "data": {
      "image/png": "[encoded data removed]",
      "text/plain": [
       "<Figure size 500x300 with 1 Axes>"
      ]
     },
     "metadata": {},
     "output_type": "display_data"
    }
   ],
   "source": [
    "F_df = pd.DataFrame({'feature': df.columns.tolist()[1:-1], 'score': F}).sort_values(by='score').tail(10)\n",
    "F_df.plot.barh(x='feature', y='score', figsize=(5,3))"
   ]
  },
  {
   "cell_type": "markdown",
   "metadata": {},
   "source": [
    "* By examining the model's learned weights, we can see that the most influential input was the `surgery_type` feature (further analysis can reveal which surgery types were most predictive of AKI)\n",
    "* The second most important feature was `lytes`, a comorbidity indicating fluid and electrolyte disorders."
   ]
  }
 ],
 "metadata": {
  "accelerator": "GPU",
  "anaconda-cloud": {},
  "colab": {
   "collapsed_sections": [],
   "name": "MLP-Teacher.ipynb",
   "provenance": [
    {
     "file_id": "1HeKPEhTAMN0YCDHRP9wcYv18UUaaOJQW",
     "timestamp": 1654466786319
    },
    {
     "file_id": "148jGrKocKC_DFagQW4JBd7jtGQnOR9yf",
     "timestamp": 1654462810571
    }
   ],
   "version": ""
  },
  "kernelspec": {
   "display_name": "Python 3 (ipykernel)",
   "language": "python",
   "name": "python3"
  },
  "language_info": {
   "codemirror_mode": {
    "name": "ipython",
    "version": 3
   },
   "file_extension": ".py",
   "mimetype": "text/x-python",
   "name": "python",
   "nbconvert_exporter": "python",
   "pygments_lexer": "ipython3",
   "version": "3.9.16"
  }
 },
 "nbformat": 4,
 "nbformat_minor": 4
}
