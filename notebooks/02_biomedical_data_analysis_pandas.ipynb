{
 "cells": [
  {
   "cell_type": "markdown",
   "id": "6a8b3c41",
   "metadata": {
    "id": "6a8b3c41"
   },
   "source": [
    "# ![](../graphics/stat_ai_logo.png)\n",
    "***\n",
    "\n",
    "# Biomedical Data Analysis with Pandas\n",
    "In this module, you will learn about one of the most popular and useful Python libraries for data analysis and manipulation: ***pandas***!\n",
    "\n",
    "<img src='../graphics/pandas_logo.png' alt='The Pandas logo' align='center' width=200>"
   ]
  },
  {
   "cell_type": "markdown",
   "id": "c1b3e4cd",
   "metadata": {},
   "source": [
    "### After this module, students will be able to:\n",
    "* Explain the various components of a *pandas* dataframe.\n",
    "* Use read_csv() to create new dataframes from real-world patient data.\n",
    "* Slice and dice data with *pandas* index and dataframe management functions.\n",
    "* Illustrate the appropriate use of basic statistical functions to summarize a clinical dataset.\n",
    "* Use matplotlib functions to generate clear graphs and plots.\n",
    "\n",
    "While pandas is widely used across many domains, in this lesson we'll be exploring *pandas* in the context of **healthcare data**.\n",
    "\n",
    "# ![](../graphics/get_started_icon.png)"
   ]
  },
  {
   "cell_type": "markdown",
   "id": "0b3af23e",
   "metadata": {},
   "source": [
    "Like we learned last module, before we can use pandas, we must **import** the pandas library.\n",
    "* For illustration purposes, we'll also import the scientific computing library NumPy.\n",
    "* Both NumPy and pandas are usually imported with abbreviated aliases, `np` and `pd`."
   ]
  },
  {
   "cell_type": "code",
   "execution_count": 1,
   "id": "0e56bf5f",
   "metadata": {},
   "outputs": [],
   "source": [
    "import numpy as np\n",
    "import pandas as pd"
   ]
  },
  {
   "cell_type": "markdown",
   "id": "99857f15",
   "metadata": {},
   "source": [
    "## Pandas Dataframes\n",
    "\n",
    "*pandas* provides one of the most useful data structures for managing data: the dataframe.\n",
    "\n",
    "**Dataframes..**\n",
    "* allow fast, flexible, and efficient data manipulation.\n",
    "* are the natural data structure for **tabular** data.\n",
    "* are two-dimensional, containing both **rows** and **columns**.\n",
    "* consist of one or more **Series** (column)\n",
    "\n",
    "\n",
    "***pandas*** is built on top of the **NumPy** library, which in practice means that most of the methods defined for NumPy Arrays apply to *pandas* Series/DataFrames.\n",
    "\n",
    "**What makes Pandas so attractive?**\n",
    "1. Powerful and efficient interface to access and manipulate individual records.\n",
    "2. Proper handling of missing values.\n",
    "3. Relational database-style operations between DataFrames."
   ]
  },
  {
   "cell_type": "markdown",
   "id": "55746954",
   "metadata": {},
   "source": [
    "## Creating a Series\n",
    "\n",
    "Let's start by creating our first *pandas* Series! (Remember: in the context of a **DataFrame** (table), each column is represented by a **Series**)."
   ]
  },
  {
   "cell_type": "markdown",
   "id": "4b01d9b5",
   "metadata": {},
   "source": [
    "First, let's create some sample data to illustrate the creation of our Series."
   ]
  },
  {
   "cell_type": "code",
   "execution_count": 2,
   "id": "4312e1c5",
   "metadata": {},
   "outputs": [],
   "source": [
    "spo2 = [88, 99, 88, 85, 100, 98] # Review: this is a Python list, containing 6 values.\n",
    "risk = ['high', 'low', 'high', 'high', 'low', 'low']"
   ]
  },
  {
   "cell_type": "code",
   "execution_count": 3,
   "id": "c75cc46f",
   "metadata": {},
   "outputs": [
    {
     "data": {
      "text/plain": [
       "0     88\n",
       "1     99\n",
       "2     88\n",
       "3     85\n",
       "4    100\n",
       "5     98\n",
       "dtype: int64"
      ]
     },
     "execution_count": 3,
     "metadata": {},
     "output_type": "execute_result"
    }
   ],
   "source": [
    "# Create our first series\n",
    "spo2_series = pd.Series(spo2)\n",
    "spo2_series # If a variable name is the last line in a code cell, Jupyter will display the contents of the variable."
   ]
  },
  {
   "cell_type": "code",
   "execution_count": 4,
   "id": "8c3bf8f7",
   "metadata": {},
   "outputs": [
    {
     "data": {
      "text/plain": [
       "0    high\n",
       "1     low\n",
       "2    high\n",
       "3    high\n",
       "4     low\n",
       "5     low\n",
       "dtype: object"
      ]
     },
     "execution_count": 4,
     "metadata": {},
     "output_type": "execute_result"
    }
   ],
   "source": [
    "# Do the same for risk\n",
    "pd.Series(risk) # Display the 'risk' series"
   ]
  },
  {
   "cell_type": "markdown",
   "id": "82ae812e",
   "metadata": {
    "id": "82ae812e"
   },
   "source": [
    "## Creating a Pandas Dataframe\n",
    "\n",
    "* Now that we've seen a Series, we can look at how these are combined as **columns** in a **table**.\n",
    "* By popular convention, we will name our DataFrame variable `df`."
   ]
  },
  {
   "cell_type": "markdown",
   "id": "49f9f24a",
   "metadata": {},
   "source": [
    "#### ![](../graphics/example_icon.png)\n",
    "Create a small DataFrame from our sample data."
   ]
  },
  {
   "cell_type": "code",
   "execution_count": 5,
   "id": "094f5a0a",
   "metadata": {},
   "outputs": [
    {
     "data": {
      "text/html": [
       "<div>\n",
       "<style scoped>\n",
       "    .dataframe tbody tr th:only-of-type {\n",
       "        vertical-align: middle;\n",
       "    }\n",
       "\n",
       "    .dataframe tbody tr th {\n",
       "        vertical-align: top;\n",
       "    }\n",
       "\n",
       "    .dataframe thead th {\n",
       "        text-align: right;\n",
       "    }\n",
       "</style>\n",
       "<table border=\"1\" class=\"dataframe\">\n",
       "  <thead>\n",
       "    <tr style=\"text-align: right;\">\n",
       "      <th></th>\n",
       "      <th>spo2</th>\n",
       "      <th>risk</th>\n",
       "    </tr>\n",
       "  </thead>\n",
       "  <tbody>\n",
       "    <tr>\n",
       "      <th>0</th>\n",
       "      <td>88</td>\n",
       "      <td>high</td>\n",
       "    </tr>\n",
       "    <tr>\n",
       "      <th>1</th>\n",
       "      <td>99</td>\n",
       "      <td>low</td>\n",
       "    </tr>\n",
       "    <tr>\n",
       "      <th>2</th>\n",
       "      <td>88</td>\n",
       "      <td>high</td>\n",
       "    </tr>\n",
       "    <tr>\n",
       "      <th>3</th>\n",
       "      <td>85</td>\n",
       "      <td>high</td>\n",
       "    </tr>\n",
       "    <tr>\n",
       "      <th>4</th>\n",
       "      <td>100</td>\n",
       "      <td>low</td>\n",
       "    </tr>\n",
       "    <tr>\n",
       "      <th>5</th>\n",
       "      <td>98</td>\n",
       "      <td>low</td>\n",
       "    </tr>\n",
       "  </tbody>\n",
       "</table>\n",
       "</div>"
      ],
      "text/plain": [
       "   spo2  risk\n",
       "0    88  high\n",
       "1    99   low\n",
       "2    88  high\n",
       "3    85  high\n",
       "4   100   low\n",
       "5    98   low"
      ]
     },
     "execution_count": 5,
     "metadata": {},
     "output_type": "execute_result"
    }
   ],
   "source": [
    "df = pd.DataFrame({'spo2': spo2, 'risk': risk}) # Create the DataFrame\n",
    "df # View the DataFrame"
   ]
  },
  {
   "cell_type": "markdown",
   "id": "30b3a34a",
   "metadata": {},
   "source": [
    "#### ![](../graphics/example_icon.png)\n",
    "Create a larger DataFrame from random data."
   ]
  },
  {
   "cell_type": "code",
   "execution_count": 6,
   "id": "1f9d2f08",
   "metadata": {
    "colab": {
     "base_uri": "https://localhost:8080/",
     "height": 143
    },
    "id": "1f9d2f08",
    "outputId": "19429c60-6869-44c7-b761-f2fecd589310"
   },
   "outputs": [
    {
     "data": {
      "text/html": [
       "<div>\n",
       "<style scoped>\n",
       "    .dataframe tbody tr th:only-of-type {\n",
       "        vertical-align: middle;\n",
       "    }\n",
       "\n",
       "    .dataframe tbody tr th {\n",
       "        vertical-align: top;\n",
       "    }\n",
       "\n",
       "    .dataframe thead th {\n",
       "        text-align: right;\n",
       "    }\n",
       "</style>\n",
       "<table border=\"1\" class=\"dataframe\">\n",
       "  <thead>\n",
       "    <tr style=\"text-align: right;\">\n",
       "      <th></th>\n",
       "      <th>columnA</th>\n",
       "      <th>columnB</th>\n",
       "      <th>columnC</th>\n",
       "      <th>columnD</th>\n",
       "    </tr>\n",
       "  </thead>\n",
       "  <tbody>\n",
       "    <tr>\n",
       "      <th>0</th>\n",
       "      <td>3</td>\n",
       "      <td>6</td>\n",
       "      <td>7</td>\n",
       "      <td>5</td>\n",
       "    </tr>\n",
       "    <tr>\n",
       "      <th>1</th>\n",
       "      <td>6</td>\n",
       "      <td>8</td>\n",
       "      <td>5</td>\n",
       "      <td>3</td>\n",
       "    </tr>\n",
       "    <tr>\n",
       "      <th>2</th>\n",
       "      <td>8</td>\n",
       "      <td>6</td>\n",
       "      <td>8</td>\n",
       "      <td>6</td>\n",
       "    </tr>\n",
       "    <tr>\n",
       "      <th>3</th>\n",
       "      <td>6</td>\n",
       "      <td>1</td>\n",
       "      <td>4</td>\n",
       "      <td>1</td>\n",
       "    </tr>\n",
       "    <tr>\n",
       "      <th>4</th>\n",
       "      <td>2</td>\n",
       "      <td>6</td>\n",
       "      <td>2</td>\n",
       "      <td>5</td>\n",
       "    </tr>\n",
       "    <tr>\n",
       "      <th>...</th>\n",
       "      <td>...</td>\n",
       "      <td>...</td>\n",
       "      <td>...</td>\n",
       "      <td>...</td>\n",
       "    </tr>\n",
       "    <tr>\n",
       "      <th>495</th>\n",
       "      <td>5</td>\n",
       "      <td>2</td>\n",
       "      <td>9</td>\n",
       "      <td>1</td>\n",
       "    </tr>\n",
       "    <tr>\n",
       "      <th>496</th>\n",
       "      <td>6</td>\n",
       "      <td>1</td>\n",
       "      <td>8</td>\n",
       "      <td>4</td>\n",
       "    </tr>\n",
       "    <tr>\n",
       "      <th>497</th>\n",
       "      <td>2</td>\n",
       "      <td>4</td>\n",
       "      <td>1</td>\n",
       "      <td>6</td>\n",
       "    </tr>\n",
       "    <tr>\n",
       "      <th>498</th>\n",
       "      <td>1</td>\n",
       "      <td>6</td>\n",
       "      <td>9</td>\n",
       "      <td>1</td>\n",
       "    </tr>\n",
       "    <tr>\n",
       "      <th>499</th>\n",
       "      <td>9</td>\n",
       "      <td>7</td>\n",
       "      <td>6</td>\n",
       "      <td>4</td>\n",
       "    </tr>\n",
       "  </tbody>\n",
       "</table>\n",
       "<p>500 rows × 4 columns</p>\n",
       "</div>"
      ],
      "text/plain": [
       "     columnA  columnB  columnC  columnD\n",
       "0          3        6        7        5\n",
       "1          6        8        5        3\n",
       "2          8        6        8        6\n",
       "3          6        1        4        1\n",
       "4          2        6        2        5\n",
       "..       ...      ...      ...      ...\n",
       "495        5        2        9        1\n",
       "496        6        1        8        4\n",
       "497        2        4        1        6\n",
       "498        1        6        9        1\n",
       "499        9        7        6        4\n",
       "\n",
       "[500 rows x 4 columns]"
      ]
     },
     "execution_count": 6,
     "metadata": {},
     "output_type": "execute_result"
    }
   ],
   "source": [
    "# Make some random numbers for data. \n",
    "# This makes an array of random integers from 1-10, then reshapes it into a 500x4 matrix (500 rows and 4 columns)\n",
    "random_data = np.random.randint(1,10, size=2000).reshape(500, 4)\n",
    "\n",
    "# Create some example column names\n",
    "column_names = ['columnA', 'columnB', 'columnC', 'columnD']\n",
    "\n",
    "# Create the DataFrame from the random data we generated.\n",
    "# Since the input matrix has 500 rows and 4 columns, the DataFrame will have 500 rows and 4 columns\n",
    "df = pd.DataFrame(data=random_data, columns=column_names)\n",
    "df # View the dataframe"
   ]
  },
  {
   "cell_type": "markdown",
   "id": "9e00c7d4",
   "metadata": {},
   "source": [
    "#### ![](../graphics/note_icon.png)\n",
    "> When viewing a large DataFrame in a Jupyter notebook, sometimes the data will be **truncated** as above."
   ]
  },
  {
   "cell_type": "markdown",
   "id": "6cf367e3",
   "metadata": {
    "id": "6cf367e3"
   },
   "source": [
    "# Creating a DataFrame from an existing data file\n",
    "\n",
    "* Instead of creating a DataFrame from scratch (tedious!), usually we create a DataFrame by loading an existing data file.\n",
    "* The most common file format for storing datasets is the **comma-separated value** `(.csv)` file.\n",
    "\n",
    "> To create a pandas DataFrame from a `.csv` file, we'll use the `read_csv` function."
   ]
  },
  {
   "cell_type": "markdown",
   "id": "51a7d5d0",
   "metadata": {},
   "source": [
    "### Let's load some real-world patient data from an electronic health record (EHR) system!\n",
    "The main input argument to `read_csv` function can be a local filename, or a remote URL of a file stored on the web. In this example, we'll be using an online file."
   ]
  },
  {
   "cell_type": "code",
   "execution_count": 7,
   "id": "18a17ef6",
   "metadata": {
    "scrolled": false
   },
   "outputs": [
    {
     "data": {
      "text/html": [
       "<div>\n",
       "<style scoped>\n",
       "    .dataframe tbody tr th:only-of-type {\n",
       "        vertical-align: middle;\n",
       "    }\n",
       "\n",
       "    .dataframe tbody tr th {\n",
       "        vertical-align: top;\n",
       "    }\n",
       "\n",
       "    .dataframe thead th {\n",
       "        text-align: right;\n",
       "    }\n",
       "</style>\n",
       "<table border=\"1\" class=\"dataframe\">\n",
       "  <thead>\n",
       "    <tr style=\"text-align: right;\">\n",
       "      <th></th>\n",
       "      <th>patient</th>\n",
       "      <th>time</th>\n",
       "      <th>temp_source</th>\n",
       "      <th>temp_value</th>\n",
       "      <th>temp_unit</th>\n",
       "    </tr>\n",
       "  </thead>\n",
       "  <tbody>\n",
       "    <tr>\n",
       "      <th>0</th>\n",
       "      <td>1</td>\n",
       "      <td>2043-10-29 05:45:10</td>\n",
       "      <td>Oral</td>\n",
       "      <td>97.9</td>\n",
       "      <td>Farenheit</td>\n",
       "    </tr>\n",
       "    <tr>\n",
       "      <th>1</th>\n",
       "      <td>2</td>\n",
       "      <td>1983-11-04 17:12:26</td>\n",
       "      <td>Oral</td>\n",
       "      <td>97.6</td>\n",
       "      <td>Farenheit</td>\n",
       "    </tr>\n",
       "    <tr>\n",
       "      <th>2</th>\n",
       "      <td>2</td>\n",
       "      <td>2003-01-15 20:35:43</td>\n",
       "      <td>Oral</td>\n",
       "      <td>94.5</td>\n",
       "      <td>Farenheit</td>\n",
       "    </tr>\n",
       "    <tr>\n",
       "      <th>3</th>\n",
       "      <td>2</td>\n",
       "      <td>2013-02-21 19:12:46</td>\n",
       "      <td>Oral</td>\n",
       "      <td>97.0</td>\n",
       "      <td>Farenheit</td>\n",
       "    </tr>\n",
       "    <tr>\n",
       "      <th>4</th>\n",
       "      <td>3</td>\n",
       "      <td>2007-12-21 02:21:30</td>\n",
       "      <td>Oral</td>\n",
       "      <td>97.5</td>\n",
       "      <td>Farenheit</td>\n",
       "    </tr>\n",
       "    <tr>\n",
       "      <th>...</th>\n",
       "      <td>...</td>\n",
       "      <td>...</td>\n",
       "      <td>...</td>\n",
       "      <td>...</td>\n",
       "      <td>...</td>\n",
       "    </tr>\n",
       "    <tr>\n",
       "      <th>1995</th>\n",
       "      <td>998</td>\n",
       "      <td>2012-12-08 15:09:54</td>\n",
       "      <td>Oral</td>\n",
       "      <td>96.9</td>\n",
       "      <td>Farenheit</td>\n",
       "    </tr>\n",
       "    <tr>\n",
       "      <th>1996</th>\n",
       "      <td>998</td>\n",
       "      <td>2023-11-23 06:21:52</td>\n",
       "      <td>Oral</td>\n",
       "      <td>93.6</td>\n",
       "      <td>Farenheit</td>\n",
       "    </tr>\n",
       "    <tr>\n",
       "      <th>1997</th>\n",
       "      <td>998</td>\n",
       "      <td>2062-06-26 06:41:23</td>\n",
       "      <td>Oral</td>\n",
       "      <td>98.3</td>\n",
       "      <td>Farenheit</td>\n",
       "    </tr>\n",
       "    <tr>\n",
       "      <th>1998</th>\n",
       "      <td>999</td>\n",
       "      <td>1996-03-11 09:43:05</td>\n",
       "      <td>Oral</td>\n",
       "      <td>98.8</td>\n",
       "      <td>Farenheit</td>\n",
       "    </tr>\n",
       "    <tr>\n",
       "      <th>1999</th>\n",
       "      <td>999</td>\n",
       "      <td>2020-01-17 19:27:35</td>\n",
       "      <td>Core</td>\n",
       "      <td>95.8</td>\n",
       "      <td>Farenheit</td>\n",
       "    </tr>\n",
       "  </tbody>\n",
       "</table>\n",
       "<p>2000 rows × 5 columns</p>\n",
       "</div>"
      ],
      "text/plain": [
       "      patient                 time temp_source  temp_value  temp_unit\n",
       "0           1  2043-10-29 05:45:10        Oral        97.9  Farenheit\n",
       "1           2  1983-11-04 17:12:26        Oral        97.6  Farenheit\n",
       "2           2  2003-01-15 20:35:43        Oral        94.5  Farenheit\n",
       "3           2  2013-02-21 19:12:46        Oral        97.0  Farenheit\n",
       "4           3  2007-12-21 02:21:30        Oral        97.5  Farenheit\n",
       "...       ...                  ...         ...         ...        ...\n",
       "1995      998  2012-12-08 15:09:54        Oral        96.9  Farenheit\n",
       "1996      998  2023-11-23 06:21:52        Oral        93.6  Farenheit\n",
       "1997      998  2062-06-26 06:41:23        Oral        98.3  Farenheit\n",
       "1998      999  1996-03-11 09:43:05        Oral        98.8  Farenheit\n",
       "1999      999  2020-01-17 19:27:35        Core        95.8  Farenheit\n",
       "\n",
       "[2000 rows x 5 columns]"
      ]
     },
     "execution_count": 7,
     "metadata": {},
     "output_type": "execute_result"
    }
   ],
   "source": [
    "url='https://www.dropbox.com/s/ncss9nypanxi2ak/temperature.csv?dl=1'\n",
    "df = pd.read_csv(url) # Create the DataFrame from the given URL\n",
    "df # View the DataFrame we just created"
   ]
  },
  {
   "cell_type": "markdown",
   "id": "8e6be464",
   "metadata": {},
   "source": [
    "We can see that this dataset contains 2000 rows and 5 columns corresponding to patient temperature measurements from an EHR system.   \n",
    "\n",
    "Below is a more detailed description of each column:"
   ]
  },
  {
   "cell_type": "markdown",
   "id": "f0f8e7d1",
   "metadata": {},
   "source": [
    "| Column |  Description |\n",
    "| --- | --- |\n",
    "|  patient |   unique patient identifier |\n",
    "|  time |   the date and time of temperature measurement |\n",
    "|  temp_source |   the temperature acquisition method |\n",
    "|  temp_value |   the measured temperature value |\n",
    "|  temp_unit |   the temperature measurement unit |"
   ]
  },
  {
   "cell_type": "markdown",
   "id": "47YUaLX0zc_8",
   "metadata": {
    "id": "47YUaLX0zc_8"
   },
   "source": [
    "## Viewing Parts of a Dataframe\n",
    "* DataFrames often hold a large number of rows (in many AI projects, you might be dealing with hundreds of thousands, or even millions, of samples!)\n",
    "* Sometimes we just want to get a preview, or a sense of what data is being stored in our DataFrame.\n",
    "* In the below examples, we'll see a few ways to view parts of a DataFrame\n",
    "    * This includes viewing a subset of columns, or a subset of rows, or both.\n",
    "\n",
    "Let's start by viewing only some of a DataFrame's **rows**. Since pandas is so flexible, there are several ways to accomplish this. In the examples below, we will use the pandas functions `head` and `tail`."
   ]
  },
  {
   "cell_type": "markdown",
   "id": "e6b380d7",
   "metadata": {},
   "source": [
    "#### ![](../graphics/exercise_icon.png)\n",
    "\n",
    "Use `head` to view the first 5 rows of our `df` DataFrame. (**Hint:** Given a dataframe `X`, calling `X.head()` will show the first `5` rows of the DataFrame.  "
   ]
  },
  {
   "cell_type": "code",
   "execution_count": 8,
   "id": "95f5d8dd",
   "metadata": {},
   "outputs": [],
   "source": [
    "# Call df.head()\n"
   ]
  },
  {
   "cell_type": "markdown",
   "id": "9bd524d6",
   "metadata": {},
   "source": [
    "#### ![](../graphics/exercise_icon.png)\n",
    "Use `head` to view the first **10** rows of `df`. (**Hint:** You can also provide an input argument `n` to the `head` function to show the first `n` rows (instead of the default `5` rows)."
   ]
  },
  {
   "cell_type": "code",
   "execution_count": 9,
   "id": "d0be82b9",
   "metadata": {},
   "outputs": [],
   "source": [
    "# Call df.head(10)\n"
   ]
  },
  {
   "cell_type": "markdown",
   "id": "44f9d9ca",
   "metadata": {},
   "source": [
    "#### ![](../graphics/exercise_icon.png)\n",
    "Use `tail` to view the **last** 5 rows of our `df` DataFrame. (**Hint:** Given a dataframe `X`, calling `X.tail()` will show the **last** `5` rows of the DataFrame.  "
   ]
  },
  {
   "cell_type": "code",
   "execution_count": 10,
   "id": "4535f19a",
   "metadata": {},
   "outputs": [],
   "source": [
    "# Call df.tail()\n"
   ]
  },
  {
   "cell_type": "markdown",
   "id": "4349d214",
   "metadata": {},
   "source": [
    "#### ![](../graphics/exercise_icon.png)\n",
    "Use `tail` to view the **last** `10` rows of `df`. (**Hint:** You can also provide an input argument `n` to the `tail` function to show the last `n` rows (instead of the default `5` rows)."
   ]
  },
  {
   "cell_type": "code",
   "execution_count": 11,
   "id": "50f56b56",
   "metadata": {},
   "outputs": [],
   "source": [
    "# Call df.tail(10)\n"
   ]
  },
  {
   "cell_type": "markdown",
   "id": "2244b476",
   "metadata": {},
   "source": [
    "Now, let's see some ways to view a subset of a DataFrame's **columns**. \n",
    "\n",
    "**Reminder:** If the last line inside a code cell is simply a variable name, Jupyter will display the value of that variable."
   ]
  },
  {
   "cell_type": "markdown",
   "id": "b9e7fe38",
   "metadata": {},
   "source": [
    "For a given DataFrame `df` and desired column `col`, one way to view a single column is to call `df['col']`. (**Important:** the column name `col` must be in quotes!).\n",
    "\n",
    "#### ![](../graphics/exercise_icon.png)\n",
    "Use the above method to view the `temp_value` column of our `df` DataFrame."
   ]
  },
  {
   "cell_type": "code",
   "execution_count": 12,
   "id": "cfad1032",
   "metadata": {},
   "outputs": [],
   "source": [
    "# Call df['temp_value']\n"
   ]
  },
  {
   "cell_type": "markdown",
   "id": "68ec6a34",
   "metadata": {},
   "source": [
    "We can also adapt this method to view multiple columns. Instead of passing in a single string column name `'C'`, instead we will pass in a **list** of string column names, e.g. `['A', 'B', 'C']`. For example: `df[['A', 'B', 'C']]` (**Important:** Notice the double brackets!)\n",
    "\n",
    "#### ![](../graphics/exercise_icon.png)\n",
    "Use the above method to view the `temp_value` **and** `temp_unit` columns of our `df` DataFrame."
   ]
  },
  {
   "cell_type": "code",
   "execution_count": 13,
   "id": "f15bb025",
   "metadata": {},
   "outputs": [],
   "source": [
    "# Call df[['temp_value', 'temp_unit']]\n"
   ]
  },
  {
   "cell_type": "markdown",
   "id": "a14ef0b9",
   "metadata": {},
   "source": [
    "> These methods can also be combined!"
   ]
  },
  {
   "cell_type": "code",
   "execution_count": 14,
   "id": "e0804fcf",
   "metadata": {},
   "outputs": [
    {
     "data": {
      "text/html": [
       "<div>\n",
       "<style scoped>\n",
       "    .dataframe tbody tr th:only-of-type {\n",
       "        vertical-align: middle;\n",
       "    }\n",
       "\n",
       "    .dataframe tbody tr th {\n",
       "        vertical-align: top;\n",
       "    }\n",
       "\n",
       "    .dataframe thead th {\n",
       "        text-align: right;\n",
       "    }\n",
       "</style>\n",
       "<table border=\"1\" class=\"dataframe\">\n",
       "  <thead>\n",
       "    <tr style=\"text-align: right;\">\n",
       "      <th></th>\n",
       "      <th>time</th>\n",
       "      <th>temp_value</th>\n",
       "    </tr>\n",
       "  </thead>\n",
       "  <tbody>\n",
       "    <tr>\n",
       "      <th>0</th>\n",
       "      <td>2043-10-29 05:45:10</td>\n",
       "      <td>97.9</td>\n",
       "    </tr>\n",
       "    <tr>\n",
       "      <th>1</th>\n",
       "      <td>1983-11-04 17:12:26</td>\n",
       "      <td>97.6</td>\n",
       "    </tr>\n",
       "  </tbody>\n",
       "</table>\n",
       "</div>"
      ],
      "text/plain": [
       "                  time  temp_value\n",
       "0  2043-10-29 05:45:10        97.9\n",
       "1  1983-11-04 17:12:26        97.6"
      ]
     },
     "execution_count": 14,
     "metadata": {},
     "output_type": "execute_result"
    }
   ],
   "source": [
    "df[['time', 'temp_value']].head(2)"
   ]
  },
  {
   "cell_type": "markdown",
   "id": "afc5dec7",
   "metadata": {
    "id": "afc5dec7"
   },
   "source": [
    "## Creating new columns \n",
    "\n",
    "* We can easily create new columns in an existing DataFrame.\n",
    "* When we define an equation as below, equation will be applied to every **row** of the DataFrame.\n",
    "* In this way, we can create new columns from different combinations of existing columns.\n",
    "\n",
    "Let's use an equation to convert Fahrenheit temperature to Celsius, and assign these values to a new column called `temp_celsius`."
   ]
  },
  {
   "cell_type": "code",
   "execution_count": 15,
   "id": "107af062",
   "metadata": {
    "colab": {
     "base_uri": "https://localhost:8080/",
     "height": 206
    },
    "id": "107af062",
    "outputId": "de3188a0-fc49-4c70-e8e0-1b6a9b193380"
   },
   "outputs": [
    {
     "data": {
      "text/html": [
       "<div>\n",
       "<style scoped>\n",
       "    .dataframe tbody tr th:only-of-type {\n",
       "        vertical-align: middle;\n",
       "    }\n",
       "\n",
       "    .dataframe tbody tr th {\n",
       "        vertical-align: top;\n",
       "    }\n",
       "\n",
       "    .dataframe thead th {\n",
       "        text-align: right;\n",
       "    }\n",
       "</style>\n",
       "<table border=\"1\" class=\"dataframe\">\n",
       "  <thead>\n",
       "    <tr style=\"text-align: right;\">\n",
       "      <th></th>\n",
       "      <th>patient</th>\n",
       "      <th>time</th>\n",
       "      <th>temp_source</th>\n",
       "      <th>temp_value</th>\n",
       "      <th>temp_unit</th>\n",
       "      <th>temp_celsius</th>\n",
       "    </tr>\n",
       "  </thead>\n",
       "  <tbody>\n",
       "    <tr>\n",
       "      <th>0</th>\n",
       "      <td>1</td>\n",
       "      <td>2043-10-29 05:45:10</td>\n",
       "      <td>Oral</td>\n",
       "      <td>97.9</td>\n",
       "      <td>Farenheit</td>\n",
       "      <td>36.611111</td>\n",
       "    </tr>\n",
       "    <tr>\n",
       "      <th>1</th>\n",
       "      <td>2</td>\n",
       "      <td>1983-11-04 17:12:26</td>\n",
       "      <td>Oral</td>\n",
       "      <td>97.6</td>\n",
       "      <td>Farenheit</td>\n",
       "      <td>36.444444</td>\n",
       "    </tr>\n",
       "    <tr>\n",
       "      <th>2</th>\n",
       "      <td>2</td>\n",
       "      <td>2003-01-15 20:35:43</td>\n",
       "      <td>Oral</td>\n",
       "      <td>94.5</td>\n",
       "      <td>Farenheit</td>\n",
       "      <td>34.722222</td>\n",
       "    </tr>\n",
       "    <tr>\n",
       "      <th>3</th>\n",
       "      <td>2</td>\n",
       "      <td>2013-02-21 19:12:46</td>\n",
       "      <td>Oral</td>\n",
       "      <td>97.0</td>\n",
       "      <td>Farenheit</td>\n",
       "      <td>36.111111</td>\n",
       "    </tr>\n",
       "    <tr>\n",
       "      <th>4</th>\n",
       "      <td>3</td>\n",
       "      <td>2007-12-21 02:21:30</td>\n",
       "      <td>Oral</td>\n",
       "      <td>97.5</td>\n",
       "      <td>Farenheit</td>\n",
       "      <td>36.388889</td>\n",
       "    </tr>\n",
       "  </tbody>\n",
       "</table>\n",
       "</div>"
      ],
      "text/plain": [
       "   patient                 time temp_source  temp_value  temp_unit  \\\n",
       "0        1  2043-10-29 05:45:10        Oral        97.9  Farenheit   \n",
       "1        2  1983-11-04 17:12:26        Oral        97.6  Farenheit   \n",
       "2        2  2003-01-15 20:35:43        Oral        94.5  Farenheit   \n",
       "3        2  2013-02-21 19:12:46        Oral        97.0  Farenheit   \n",
       "4        3  2007-12-21 02:21:30        Oral        97.5  Farenheit   \n",
       "\n",
       "   temp_celsius  \n",
       "0     36.611111  \n",
       "1     36.444444  \n",
       "2     34.722222  \n",
       "3     36.111111  \n",
       "4     36.388889  "
      ]
     },
     "execution_count": 15,
     "metadata": {},
     "output_type": "execute_result"
    }
   ],
   "source": [
    "df['temp_celsius'] = (df['temp_value'] - 32) * (5/9)\n",
    "df.head()"
   ]
  },
  {
   "cell_type": "markdown",
   "id": "3ebe98a4",
   "metadata": {
    "id": "3ebe98a4"
   },
   "source": [
    "## Deleting columns \n",
    "\n",
    "We can also **drop** (delete) columns.\n",
    "\n",
    "Let's remove the `temp_celsius` column that we previously created."
   ]
  },
  {
   "cell_type": "code",
   "execution_count": 16,
   "id": "48b57eaa",
   "metadata": {
    "colab": {
     "base_uri": "https://localhost:8080/",
     "height": 206
    },
    "id": "48b57eaa",
    "outputId": "e4ff3c3c-e3a6-4499-c406-ad3e4afad251"
   },
   "outputs": [
    {
     "data": {
      "text/html": [
       "<div>\n",
       "<style scoped>\n",
       "    .dataframe tbody tr th:only-of-type {\n",
       "        vertical-align: middle;\n",
       "    }\n",
       "\n",
       "    .dataframe tbody tr th {\n",
       "        vertical-align: top;\n",
       "    }\n",
       "\n",
       "    .dataframe thead th {\n",
       "        text-align: right;\n",
       "    }\n",
       "</style>\n",
       "<table border=\"1\" class=\"dataframe\">\n",
       "  <thead>\n",
       "    <tr style=\"text-align: right;\">\n",
       "      <th></th>\n",
       "      <th>patient</th>\n",
       "      <th>time</th>\n",
       "      <th>temp_source</th>\n",
       "      <th>temp_value</th>\n",
       "      <th>temp_unit</th>\n",
       "      <th>temp_celsius</th>\n",
       "    </tr>\n",
       "  </thead>\n",
       "  <tbody>\n",
       "    <tr>\n",
       "      <th>0</th>\n",
       "      <td>1</td>\n",
       "      <td>2043-10-29 05:45:10</td>\n",
       "      <td>Oral</td>\n",
       "      <td>97.9</td>\n",
       "      <td>Farenheit</td>\n",
       "      <td>36.611111</td>\n",
       "    </tr>\n",
       "    <tr>\n",
       "      <th>1</th>\n",
       "      <td>2</td>\n",
       "      <td>1983-11-04 17:12:26</td>\n",
       "      <td>Oral</td>\n",
       "      <td>97.6</td>\n",
       "      <td>Farenheit</td>\n",
       "      <td>36.444444</td>\n",
       "    </tr>\n",
       "    <tr>\n",
       "      <th>2</th>\n",
       "      <td>2</td>\n",
       "      <td>2003-01-15 20:35:43</td>\n",
       "      <td>Oral</td>\n",
       "      <td>94.5</td>\n",
       "      <td>Farenheit</td>\n",
       "      <td>34.722222</td>\n",
       "    </tr>\n",
       "    <tr>\n",
       "      <th>3</th>\n",
       "      <td>2</td>\n",
       "      <td>2013-02-21 19:12:46</td>\n",
       "      <td>Oral</td>\n",
       "      <td>97.0</td>\n",
       "      <td>Farenheit</td>\n",
       "      <td>36.111111</td>\n",
       "    </tr>\n",
       "    <tr>\n",
       "      <th>4</th>\n",
       "      <td>3</td>\n",
       "      <td>2007-12-21 02:21:30</td>\n",
       "      <td>Oral</td>\n",
       "      <td>97.5</td>\n",
       "      <td>Farenheit</td>\n",
       "      <td>36.388889</td>\n",
       "    </tr>\n",
       "  </tbody>\n",
       "</table>\n",
       "</div>"
      ],
      "text/plain": [
       "   patient                 time temp_source  temp_value  temp_unit  \\\n",
       "0        1  2043-10-29 05:45:10        Oral        97.9  Farenheit   \n",
       "1        2  1983-11-04 17:12:26        Oral        97.6  Farenheit   \n",
       "2        2  2003-01-15 20:35:43        Oral        94.5  Farenheit   \n",
       "3        2  2013-02-21 19:12:46        Oral        97.0  Farenheit   \n",
       "4        3  2007-12-21 02:21:30        Oral        97.5  Farenheit   \n",
       "\n",
       "   temp_celsius  \n",
       "0     36.611111  \n",
       "1     36.444444  \n",
       "2     34.722222  \n",
       "3     36.111111  \n",
       "4     36.388889  "
      ]
     },
     "execution_count": 16,
     "metadata": {},
     "output_type": "execute_result"
    }
   ],
   "source": [
    "df.drop(columns=['temp_celsius']) # Will this remove the column?\n",
    "df.head()"
   ]
  },
  {
   "cell_type": "markdown",
   "id": "6af31be9",
   "metadata": {
    "id": "6af31be9"
   },
   "source": [
    "**What happened? `temp_celsius` is still there!**\n",
    "\n",
    "#### ![](../graphics/tip_icon.png)\n",
    "> Unless you specify `inplace=True</code>` or assign the dataframe back to itself (or a different variable name), **the `drop` method does not change the original DataFrame!**\n",
    "\n",
    "Below is one way to permanently remove a column from a DataFrame by assigning the result to a new DataFrame variable `df2`."
   ]
  },
  {
   "cell_type": "code",
   "execution_count": 17,
   "id": "840718b2",
   "metadata": {},
   "outputs": [
    {
     "data": {
      "text/html": [
       "<div>\n",
       "<style scoped>\n",
       "    .dataframe tbody tr th:only-of-type {\n",
       "        vertical-align: middle;\n",
       "    }\n",
       "\n",
       "    .dataframe tbody tr th {\n",
       "        vertical-align: top;\n",
       "    }\n",
       "\n",
       "    .dataframe thead th {\n",
       "        text-align: right;\n",
       "    }\n",
       "</style>\n",
       "<table border=\"1\" class=\"dataframe\">\n",
       "  <thead>\n",
       "    <tr style=\"text-align: right;\">\n",
       "      <th></th>\n",
       "      <th>patient</th>\n",
       "      <th>time</th>\n",
       "      <th>temp_source</th>\n",
       "      <th>temp_value</th>\n",
       "      <th>temp_unit</th>\n",
       "    </tr>\n",
       "  </thead>\n",
       "  <tbody>\n",
       "    <tr>\n",
       "      <th>0</th>\n",
       "      <td>1</td>\n",
       "      <td>2043-10-29 05:45:10</td>\n",
       "      <td>Oral</td>\n",
       "      <td>97.9</td>\n",
       "      <td>Farenheit</td>\n",
       "    </tr>\n",
       "    <tr>\n",
       "      <th>1</th>\n",
       "      <td>2</td>\n",
       "      <td>1983-11-04 17:12:26</td>\n",
       "      <td>Oral</td>\n",
       "      <td>97.6</td>\n",
       "      <td>Farenheit</td>\n",
       "    </tr>\n",
       "    <tr>\n",
       "      <th>2</th>\n",
       "      <td>2</td>\n",
       "      <td>2003-01-15 20:35:43</td>\n",
       "      <td>Oral</td>\n",
       "      <td>94.5</td>\n",
       "      <td>Farenheit</td>\n",
       "    </tr>\n",
       "    <tr>\n",
       "      <th>3</th>\n",
       "      <td>2</td>\n",
       "      <td>2013-02-21 19:12:46</td>\n",
       "      <td>Oral</td>\n",
       "      <td>97.0</td>\n",
       "      <td>Farenheit</td>\n",
       "    </tr>\n",
       "    <tr>\n",
       "      <th>4</th>\n",
       "      <td>3</td>\n",
       "      <td>2007-12-21 02:21:30</td>\n",
       "      <td>Oral</td>\n",
       "      <td>97.5</td>\n",
       "      <td>Farenheit</td>\n",
       "    </tr>\n",
       "  </tbody>\n",
       "</table>\n",
       "</div>"
      ],
      "text/plain": [
       "   patient                 time temp_source  temp_value  temp_unit\n",
       "0        1  2043-10-29 05:45:10        Oral        97.9  Farenheit\n",
       "1        2  1983-11-04 17:12:26        Oral        97.6  Farenheit\n",
       "2        2  2003-01-15 20:35:43        Oral        94.5  Farenheit\n",
       "3        2  2013-02-21 19:12:46        Oral        97.0  Farenheit\n",
       "4        3  2007-12-21 02:21:30        Oral        97.5  Farenheit"
      ]
     },
     "execution_count": 17,
     "metadata": {},
     "output_type": "execute_result"
    }
   ],
   "source": [
    "# Now, after dropping the column, we are assigning the resulting DataFrame to a new variable.\n",
    "# This will persist the change.\n",
    "df2 = df.drop(columns=['temp_celsius']) \n",
    "df2.head()"
   ]
  },
  {
   "cell_type": "markdown",
   "id": "07188598",
   "metadata": {},
   "source": [
    "#### ![](../graphics/exercise_icon.png)\n",
    "\n",
    "Create a new DataFrame called `df3`, that contains everything in the `df` DataFrame **except** the `temp_source` column."
   ]
  },
  {
   "cell_type": "code",
   "execution_count": 18,
   "id": "79646cdc",
   "metadata": {},
   "outputs": [],
   "source": [
    "# Code it!\n"
   ]
  },
  {
   "cell_type": "markdown",
   "id": "8a113e56",
   "metadata": {},
   "source": [
    "## Descriptive Statistics\n",
    "\n",
    "#### ![](../graphics/alert_icon.png)\n",
    "> Before diving into an AI project, it is critical to become familiar with the data you will be modeling!  Pandas has a large collection of optimized methods designed to analyze your data.\n",
    "\n",
    "A preliminary data discovery and exploration phase can help you better understand the data you will be modeling, and has many downstream advantages:\n",
    "* You may identify potential problems with the dataset (e.g., missing values, outliers, incomplete columns, irrelevant information)\n",
    "* Results of data exploration may help you decide which preproessing or modeling approach to take.\n",
    "* A better understanding of your population will help you interpret your future results.\n",
    "\n",
    "#### Remember Python functions?\n",
    "Pandas offers many **functions** that take as **input** a set of values (example: all of the values from the `temp_celsius` column), and **return** a calculated **output** value based on which function was used.\n",
    "\n",
    "Here are a few examples (most are self-explanatory!):\n",
    "* `sum` (sum the input values)\n",
    "* `count` (count the number of input values), `value_counts` (count the number of each unique value)\n",
    "* `min` (return the minimum value), `max` (return the maximum value)\n",
    "* `mean` (return the mean value), `median` (median), `mode` (mode)\n",
    "* `var` (variance), `std` (standard deviation)\n",
    "* `quantile` (compute quantiles)\n",
    "\n",
    "Let's take a look at a few examples using our clinical dataset!"
   ]
  },
  {
   "cell_type": "markdown",
   "id": "085acc35",
   "metadata": {},
   "source": [
    "#### ![](../graphics/example_icon.png)\n",
    "Here's how we can compute the **mean** patient temperature, measured in Fahrenheit (i.e., the `temp_value` of our `df` DataFrame):"
   ]
  },
  {
   "cell_type": "code",
   "execution_count": 19,
   "id": "e45b5034",
   "metadata": {},
   "outputs": [
    {
     "data": {
      "text/plain": [
       "97.4448"
      ]
     },
     "execution_count": 19,
     "metadata": {},
     "output_type": "execute_result"
    }
   ],
   "source": [
    "# Compute the mean temperature (Fahrenheit)\n",
    "df['temp_value'].mean()"
   ]
  },
  {
   "cell_type": "markdown",
   "id": "e515f2c7",
   "metadata": {},
   "source": [
    "It's that easy! Let's compute a few more descriptive statistics:"
   ]
  },
  {
   "cell_type": "markdown",
   "id": "fb2ae2e7",
   "metadata": {},
   "source": [
    "#### ![](../graphics/exercise_icon.png) \n",
    "Compute the **minimum** Fahrenheit temperature (`temp_value`)."
   ]
  },
  {
   "cell_type": "code",
   "execution_count": 20,
   "id": "734a99a5",
   "metadata": {},
   "outputs": [],
   "source": [
    "# Compute the minimum temperature (Fahrenheit)\n"
   ]
  },
  {
   "cell_type": "markdown",
   "id": "a5b75d65",
   "metadata": {},
   "source": [
    "#### ![](../graphics/exercise_icon.png)\n",
    "Compute the **maximum** Fahrenheit temperature (`temp_value`)."
   ]
  },
  {
   "cell_type": "code",
   "execution_count": 21,
   "id": "850dbf88",
   "metadata": {},
   "outputs": [],
   "source": [
    "# Compute the maximum temperature (Fahrenheit)\n"
   ]
  },
  {
   "cell_type": "markdown",
   "id": "01ccf6f1",
   "metadata": {},
   "source": [
    "#### ![](../graphics/exercise_icon.png)\n",
    "Count the number of occurrences of **each unique** temperature acquisition method (excluding missing values).  \n",
    "* **Hint 1:** The `temp_source` column contains the temperature acquisition method.\n",
    "* **Hint 2:** The `value_counts` function can be used to calculate counts of each unique value (excluding missing values)"
   ]
  },
  {
   "cell_type": "code",
   "execution_count": 22,
   "id": "a0f19466",
   "metadata": {},
   "outputs": [],
   "source": [
    "# Code it!\n"
   ]
  },
  {
   "cell_type": "markdown",
   "id": "f8534aca",
   "metadata": {},
   "source": [
    "Finally, the `describe` function can be used on an entire DataFrame to display several common statistics, computed for each column, all at once. (**Note:** Be aware of the values and data types contained in each column, as sometimes the statistics will not make sense. For example, `patient` is a randomized patient identifier, so calculations with these values will be meaningless.)"
   ]
  },
  {
   "cell_type": "code",
   "execution_count": 23,
   "id": "2383c2f6",
   "metadata": {},
   "outputs": [
    {
     "data": {
      "text/html": [
       "<div>\n",
       "<style scoped>\n",
       "    .dataframe tbody tr th:only-of-type {\n",
       "        vertical-align: middle;\n",
       "    }\n",
       "\n",
       "    .dataframe tbody tr th {\n",
       "        vertical-align: top;\n",
       "    }\n",
       "\n",
       "    .dataframe thead th {\n",
       "        text-align: right;\n",
       "    }\n",
       "</style>\n",
       "<table border=\"1\" class=\"dataframe\">\n",
       "  <thead>\n",
       "    <tr style=\"text-align: right;\">\n",
       "      <th></th>\n",
       "      <th>patient</th>\n",
       "      <th>temp_value</th>\n",
       "      <th>temp_celsius</th>\n",
       "    </tr>\n",
       "  </thead>\n",
       "  <tbody>\n",
       "    <tr>\n",
       "      <th>count</th>\n",
       "      <td>2000.000000</td>\n",
       "      <td>2000.000000</td>\n",
       "      <td>2000.000000</td>\n",
       "    </tr>\n",
       "    <tr>\n",
       "      <th>mean</th>\n",
       "      <td>499.017000</td>\n",
       "      <td>97.444800</td>\n",
       "      <td>36.358222</td>\n",
       "    </tr>\n",
       "    <tr>\n",
       "      <th>std</th>\n",
       "      <td>289.878512</td>\n",
       "      <td>1.376775</td>\n",
       "      <td>0.764875</td>\n",
       "    </tr>\n",
       "    <tr>\n",
       "      <th>min</th>\n",
       "      <td>1.000000</td>\n",
       "      <td>89.500000</td>\n",
       "      <td>31.944444</td>\n",
       "    </tr>\n",
       "    <tr>\n",
       "      <th>25%</th>\n",
       "      <td>250.000000</td>\n",
       "      <td>96.600000</td>\n",
       "      <td>35.888889</td>\n",
       "    </tr>\n",
       "    <tr>\n",
       "      <th>50%</th>\n",
       "      <td>510.500000</td>\n",
       "      <td>97.400000</td>\n",
       "      <td>36.333333</td>\n",
       "    </tr>\n",
       "    <tr>\n",
       "      <th>75%</th>\n",
       "      <td>747.250000</td>\n",
       "      <td>98.300000</td>\n",
       "      <td>36.833333</td>\n",
       "    </tr>\n",
       "    <tr>\n",
       "      <th>max</th>\n",
       "      <td>999.000000</td>\n",
       "      <td>103.300000</td>\n",
       "      <td>39.611111</td>\n",
       "    </tr>\n",
       "  </tbody>\n",
       "</table>\n",
       "</div>"
      ],
      "text/plain": [
       "           patient   temp_value  temp_celsius\n",
       "count  2000.000000  2000.000000   2000.000000\n",
       "mean    499.017000    97.444800     36.358222\n",
       "std     289.878512     1.376775      0.764875\n",
       "min       1.000000    89.500000     31.944444\n",
       "25%     250.000000    96.600000     35.888889\n",
       "50%     510.500000    97.400000     36.333333\n",
       "75%     747.250000    98.300000     36.833333\n",
       "max     999.000000   103.300000     39.611111"
      ]
     },
     "execution_count": 23,
     "metadata": {},
     "output_type": "execute_result"
    }
   ],
   "source": [
    "# (Almost) everything, (almost) everywhere, all at once\n",
    "# Note: will only compute statistics for columns with numerical data.\n",
    "df.describe()"
   ]
  },
  {
   "cell_type": "markdown",
   "id": "e8e532f0",
   "metadata": {},
   "source": [
    "## Filtering data\n",
    "Pandas makes it easy to select, analyze, and process subsets of your data based on some criteria `C`. This is accomplished with easily understandable syntax: `df[C]` will return a subset of DataFrame `df` that **matches** the criteria `C` listed inside brackets `[]`."
   ]
  },
  {
   "cell_type": "markdown",
   "id": "3d90eb91",
   "metadata": {},
   "source": [
    "### Comparing values\n",
    "In pandas, we can create filtering criteria using familiar mathematical operators to compare values:\n",
    "* `>`: greater than\n",
    "* `<`: less than\n",
    "* `>=`: greater than or equal to\n",
    "* `<=`: less than or equal to\n",
    "* `!=`: is not equal to\n",
    "* `==`: is equal to a single value\n",
    "* **Bonus:** `.isin(L)`: is equal to any value contained in the list `L`."
   ]
  },
  {
   "cell_type": "markdown",
   "id": "17853995",
   "metadata": {},
   "source": [
    "#### ![](../graphics/example_icon.png)\n",
    "Display readings where temperature is **greater** than 102$^{\\circ} F$.\n",
    "* In this example, the criteria `C` is `df['temp_value'] > 102`.\n",
    "* Recall the Pandas filtering syntax: `df[C]`.\n",
    "* So, this is what we want: `df[df['temp_value'] > 102]`."
   ]
  },
  {
   "cell_type": "code",
   "execution_count": 24,
   "id": "effbed44",
   "metadata": {},
   "outputs": [
    {
     "data": {
      "text/html": [
       "<div>\n",
       "<style scoped>\n",
       "    .dataframe tbody tr th:only-of-type {\n",
       "        vertical-align: middle;\n",
       "    }\n",
       "\n",
       "    .dataframe tbody tr th {\n",
       "        vertical-align: top;\n",
       "    }\n",
       "\n",
       "    .dataframe thead th {\n",
       "        text-align: right;\n",
       "    }\n",
       "</style>\n",
       "<table border=\"1\" class=\"dataframe\">\n",
       "  <thead>\n",
       "    <tr style=\"text-align: right;\">\n",
       "      <th></th>\n",
       "      <th>patient</th>\n",
       "      <th>time</th>\n",
       "      <th>temp_source</th>\n",
       "      <th>temp_value</th>\n",
       "      <th>temp_unit</th>\n",
       "      <th>temp_celsius</th>\n",
       "    </tr>\n",
       "  </thead>\n",
       "  <tbody>\n",
       "    <tr>\n",
       "      <th>36</th>\n",
       "      <td>18</td>\n",
       "      <td>2041-05-30 20:14:08</td>\n",
       "      <td>Oral</td>\n",
       "      <td>103.1</td>\n",
       "      <td>Farenheit</td>\n",
       "      <td>39.500000</td>\n",
       "    </tr>\n",
       "    <tr>\n",
       "      <th>559</th>\n",
       "      <td>277</td>\n",
       "      <td>2017-10-23 22:22:33</td>\n",
       "      <td>Tympanic</td>\n",
       "      <td>102.6</td>\n",
       "      <td>Farenheit</td>\n",
       "      <td>39.222222</td>\n",
       "    </tr>\n",
       "    <tr>\n",
       "      <th>880</th>\n",
       "      <td>453</td>\n",
       "      <td>2015-03-22 04:38:05</td>\n",
       "      <td>Oral</td>\n",
       "      <td>102.2</td>\n",
       "      <td>Farenheit</td>\n",
       "      <td>39.000000</td>\n",
       "    </tr>\n",
       "    <tr>\n",
       "      <th>1216</th>\n",
       "      <td>613</td>\n",
       "      <td>2026-06-29 17:47:42</td>\n",
       "      <td>Oral</td>\n",
       "      <td>102.7</td>\n",
       "      <td>Farenheit</td>\n",
       "      <td>39.277778</td>\n",
       "    </tr>\n",
       "    <tr>\n",
       "      <th>1406</th>\n",
       "      <td>704</td>\n",
       "      <td>2074-05-02 05:48:09</td>\n",
       "      <td>Oral</td>\n",
       "      <td>103.3</td>\n",
       "      <td>Farenheit</td>\n",
       "      <td>39.611111</td>\n",
       "    </tr>\n",
       "  </tbody>\n",
       "</table>\n",
       "</div>"
      ],
      "text/plain": [
       "      patient                 time temp_source  temp_value  temp_unit  \\\n",
       "36         18  2041-05-30 20:14:08        Oral       103.1  Farenheit   \n",
       "559       277  2017-10-23 22:22:33    Tympanic       102.6  Farenheit   \n",
       "880       453  2015-03-22 04:38:05        Oral       102.2  Farenheit   \n",
       "1216      613  2026-06-29 17:47:42        Oral       102.7  Farenheit   \n",
       "1406      704  2074-05-02 05:48:09        Oral       103.3  Farenheit   \n",
       "\n",
       "      temp_celsius  \n",
       "36       39.500000  \n",
       "559      39.222222  \n",
       "880      39.000000  \n",
       "1216     39.277778  \n",
       "1406     39.611111  "
      ]
     },
     "execution_count": 24,
     "metadata": {},
     "output_type": "execute_result"
    }
   ],
   "source": [
    "# Select rows where Fahrenheit temperature is greater than 102 degrees.\n",
    "df[df['temp_value'] > 102]"
   ]
  },
  {
   "cell_type": "markdown",
   "id": "4dcdd276",
   "metadata": {},
   "source": [
    "#### ![](../graphics/exercise_icon.png)\n",
    "Display readings where temperature is less than 94$^{\\circ} F$."
   ]
  },
  {
   "cell_type": "code",
   "execution_count": 25,
   "id": "45465e39",
   "metadata": {},
   "outputs": [],
   "source": [
    "# Display rows where measured Fahrenheit temperature is less than 94 degrees.\n"
   ]
  },
  {
   "cell_type": "markdown",
   "id": "69539eb3",
   "metadata": {},
   "source": [
    "#### ![](../graphics/example_icon.png)\n",
    "Display the first 5 readings where the temperature acquisition method (`temp_source`) is `Core`.\n",
    "\n",
    "* Recall that the symbol `==` will check for equality (we want the source to be equal to the single value `Core`).\n",
    "* In this example, the criteria `C` is `df['temp_value'] == 'Core'`.\n",
    "* Given the Pandas filtering syntax: `df[C]`, this is what we want: `df[df['temp_source'] == 'Core']`."
   ]
  },
  {
   "cell_type": "code",
   "execution_count": 26,
   "id": "a17076c2",
   "metadata": {},
   "outputs": [
    {
     "data": {
      "text/html": [
       "<div>\n",
       "<style scoped>\n",
       "    .dataframe tbody tr th:only-of-type {\n",
       "        vertical-align: middle;\n",
       "    }\n",
       "\n",
       "    .dataframe tbody tr th {\n",
       "        vertical-align: top;\n",
       "    }\n",
       "\n",
       "    .dataframe thead th {\n",
       "        text-align: right;\n",
       "    }\n",
       "</style>\n",
       "<table border=\"1\" class=\"dataframe\">\n",
       "  <thead>\n",
       "    <tr style=\"text-align: right;\">\n",
       "      <th></th>\n",
       "      <th>patient</th>\n",
       "      <th>time</th>\n",
       "      <th>temp_source</th>\n",
       "      <th>temp_value</th>\n",
       "      <th>temp_unit</th>\n",
       "      <th>temp_celsius</th>\n",
       "    </tr>\n",
       "  </thead>\n",
       "  <tbody>\n",
       "    <tr>\n",
       "      <th>13</th>\n",
       "      <td>7</td>\n",
       "      <td>2043-10-27 11:28:15</td>\n",
       "      <td>Core</td>\n",
       "      <td>96.6</td>\n",
       "      <td>Farenheit</td>\n",
       "      <td>35.888889</td>\n",
       "    </tr>\n",
       "    <tr>\n",
       "      <th>25</th>\n",
       "      <td>12</td>\n",
       "      <td>1952-06-18 10:03:43</td>\n",
       "      <td>Core</td>\n",
       "      <td>98.8</td>\n",
       "      <td>Farenheit</td>\n",
       "      <td>37.111111</td>\n",
       "    </tr>\n",
       "    <tr>\n",
       "      <th>28</th>\n",
       "      <td>12</td>\n",
       "      <td>2026-04-01 16:41:53</td>\n",
       "      <td>Core</td>\n",
       "      <td>97.8</td>\n",
       "      <td>Farenheit</td>\n",
       "      <td>36.555556</td>\n",
       "    </tr>\n",
       "    <tr>\n",
       "      <th>38</th>\n",
       "      <td>19</td>\n",
       "      <td>1959-07-19 09:30:06</td>\n",
       "      <td>Core</td>\n",
       "      <td>98.0</td>\n",
       "      <td>Farenheit</td>\n",
       "      <td>36.666667</td>\n",
       "    </tr>\n",
       "    <tr>\n",
       "      <th>49</th>\n",
       "      <td>22</td>\n",
       "      <td>2009-01-26 13:24:06</td>\n",
       "      <td>Core</td>\n",
       "      <td>98.1</td>\n",
       "      <td>Farenheit</td>\n",
       "      <td>36.722222</td>\n",
       "    </tr>\n",
       "  </tbody>\n",
       "</table>\n",
       "</div>"
      ],
      "text/plain": [
       "    patient                 time temp_source  temp_value  temp_unit  \\\n",
       "13        7  2043-10-27 11:28:15        Core        96.6  Farenheit   \n",
       "25       12  1952-06-18 10:03:43        Core        98.8  Farenheit   \n",
       "28       12  2026-04-01 16:41:53        Core        97.8  Farenheit   \n",
       "38       19  1959-07-19 09:30:06        Core        98.0  Farenheit   \n",
       "49       22  2009-01-26 13:24:06        Core        98.1  Farenheit   \n",
       "\n",
       "    temp_celsius  \n",
       "13     35.888889  \n",
       "25     37.111111  \n",
       "28     36.555556  \n",
       "38     36.666667  \n",
       "49     36.722222  "
      ]
     },
     "execution_count": 26,
     "metadata": {},
     "output_type": "execute_result"
    }
   ],
   "source": [
    "# Show the first 5 core temperature measurements.\n",
    "df[df['temp_source'] == 'Core'].head()"
   ]
  },
  {
   "cell_type": "markdown",
   "id": "cceae2a5",
   "metadata": {},
   "source": [
    "#### ![](../graphics/exercise_icon.png)\n",
    "Display the first 5 readings where the temperature acquisition method (`temp_source`) is `Tympanic`."
   ]
  },
  {
   "cell_type": "code",
   "execution_count": 27,
   "id": "d71ee165",
   "metadata": {},
   "outputs": [],
   "source": [
    "# Show the first 5 tympanic (ear) temperature measurements.\n"
   ]
  },
  {
   "cell_type": "markdown",
   "id": "c7bc6f15",
   "metadata": {},
   "source": [
    "### Combining multiple criteria\n",
    "\n",
    "Multiple criteria can be combined using either the `&` or `|` symbols:\n",
    "* C1 `&` C2: This will select rows that match **both** criteria C1 **and** C2.\n",
    "* C1 `&` C2: This will select rows that match **either** criteria C1 **or** C2.\n",
    "\n",
    "#### ![](../graphics/example_icon.png)\n",
    "Display readings where temperature is between 99$^{\\circ} F$ and 100$^{\\circ} F$. In this example, we have two criteria:\n",
    "* C1: `df['temp_value'] >= 99`\n",
    "* C2: `df['temp_value'] <= 100`"
   ]
  },
  {
   "cell_type": "code",
   "execution_count": 28,
   "id": "f9d2d237",
   "metadata": {},
   "outputs": [
    {
     "data": {
      "text/html": [
       "<div>\n",
       "<style scoped>\n",
       "    .dataframe tbody tr th:only-of-type {\n",
       "        vertical-align: middle;\n",
       "    }\n",
       "\n",
       "    .dataframe tbody tr th {\n",
       "        vertical-align: top;\n",
       "    }\n",
       "\n",
       "    .dataframe thead th {\n",
       "        text-align: right;\n",
       "    }\n",
       "</style>\n",
       "<table border=\"1\" class=\"dataframe\">\n",
       "  <thead>\n",
       "    <tr style=\"text-align: right;\">\n",
       "      <th></th>\n",
       "      <th>patient</th>\n",
       "      <th>time</th>\n",
       "      <th>temp_source</th>\n",
       "      <th>temp_value</th>\n",
       "      <th>temp_unit</th>\n",
       "      <th>temp_celsius</th>\n",
       "    </tr>\n",
       "  </thead>\n",
       "  <tbody>\n",
       "    <tr>\n",
       "      <th>15</th>\n",
       "      <td>8</td>\n",
       "      <td>1935-12-01 02:45:08</td>\n",
       "      <td>Oral</td>\n",
       "      <td>99.4</td>\n",
       "      <td>Farenheit</td>\n",
       "      <td>37.444444</td>\n",
       "    </tr>\n",
       "    <tr>\n",
       "      <th>35</th>\n",
       "      <td>18</td>\n",
       "      <td>2037-10-05 08:41:47</td>\n",
       "      <td>Oral</td>\n",
       "      <td>99.0</td>\n",
       "      <td>Farenheit</td>\n",
       "      <td>37.222222</td>\n",
       "    </tr>\n",
       "    <tr>\n",
       "      <th>54</th>\n",
       "      <td>24</td>\n",
       "      <td>2032-10-05 02:26:00</td>\n",
       "      <td>Tympanic</td>\n",
       "      <td>99.3</td>\n",
       "      <td>Farenheit</td>\n",
       "      <td>37.388889</td>\n",
       "    </tr>\n",
       "    <tr>\n",
       "      <th>65</th>\n",
       "      <td>27</td>\n",
       "      <td>2068-07-17 17:50:40</td>\n",
       "      <td>Tympanic</td>\n",
       "      <td>100.0</td>\n",
       "      <td>Farenheit</td>\n",
       "      <td>37.777778</td>\n",
       "    </tr>\n",
       "    <tr>\n",
       "      <th>68</th>\n",
       "      <td>28</td>\n",
       "      <td>2000-01-25 04:59:18</td>\n",
       "      <td>Oral</td>\n",
       "      <td>99.8</td>\n",
       "      <td>Farenheit</td>\n",
       "      <td>37.666667</td>\n",
       "    </tr>\n",
       "    <tr>\n",
       "      <th>...</th>\n",
       "      <td>...</td>\n",
       "      <td>...</td>\n",
       "      <td>...</td>\n",
       "      <td>...</td>\n",
       "      <td>...</td>\n",
       "      <td>...</td>\n",
       "    </tr>\n",
       "    <tr>\n",
       "      <th>1942</th>\n",
       "      <td>967</td>\n",
       "      <td>2040-03-06 19:38:21</td>\n",
       "      <td>Temporal</td>\n",
       "      <td>99.9</td>\n",
       "      <td>Farenheit</td>\n",
       "      <td>37.722222</td>\n",
       "    </tr>\n",
       "    <tr>\n",
       "      <th>1959</th>\n",
       "      <td>977</td>\n",
       "      <td>1966-12-02 11:09:03</td>\n",
       "      <td>Oral</td>\n",
       "      <td>99.8</td>\n",
       "      <td>Farenheit</td>\n",
       "      <td>37.666667</td>\n",
       "    </tr>\n",
       "    <tr>\n",
       "      <th>1977</th>\n",
       "      <td>989</td>\n",
       "      <td>2025-03-16 12:10:39</td>\n",
       "      <td>Core</td>\n",
       "      <td>99.3</td>\n",
       "      <td>Farenheit</td>\n",
       "      <td>37.388889</td>\n",
       "    </tr>\n",
       "    <tr>\n",
       "      <th>1988</th>\n",
       "      <td>994</td>\n",
       "      <td>2024-04-24 16:00:26</td>\n",
       "      <td>Oral</td>\n",
       "      <td>99.7</td>\n",
       "      <td>Farenheit</td>\n",
       "      <td>37.611111</td>\n",
       "    </tr>\n",
       "    <tr>\n",
       "      <th>1994</th>\n",
       "      <td>997</td>\n",
       "      <td>2043-02-12 19:39:23</td>\n",
       "      <td>Oral</td>\n",
       "      <td>99.1</td>\n",
       "      <td>Farenheit</td>\n",
       "      <td>37.277778</td>\n",
       "    </tr>\n",
       "  </tbody>\n",
       "</table>\n",
       "<p>150 rows × 6 columns</p>\n",
       "</div>"
      ],
      "text/plain": [
       "      patient                 time temp_source  temp_value  temp_unit  \\\n",
       "15          8  1935-12-01 02:45:08        Oral        99.4  Farenheit   \n",
       "35         18  2037-10-05 08:41:47        Oral        99.0  Farenheit   \n",
       "54         24  2032-10-05 02:26:00    Tympanic        99.3  Farenheit   \n",
       "65         27  2068-07-17 17:50:40    Tympanic       100.0  Farenheit   \n",
       "68         28  2000-01-25 04:59:18        Oral        99.8  Farenheit   \n",
       "...       ...                  ...         ...         ...        ...   \n",
       "1942      967  2040-03-06 19:38:21    Temporal        99.9  Farenheit   \n",
       "1959      977  1966-12-02 11:09:03        Oral        99.8  Farenheit   \n",
       "1977      989  2025-03-16 12:10:39        Core        99.3  Farenheit   \n",
       "1988      994  2024-04-24 16:00:26        Oral        99.7  Farenheit   \n",
       "1994      997  2043-02-12 19:39:23        Oral        99.1  Farenheit   \n",
       "\n",
       "      temp_celsius  \n",
       "15       37.444444  \n",
       "35       37.222222  \n",
       "54       37.388889  \n",
       "65       37.777778  \n",
       "68       37.666667  \n",
       "...            ...  \n",
       "1942     37.722222  \n",
       "1959     37.666667  \n",
       "1977     37.388889  \n",
       "1988     37.611111  \n",
       "1994     37.277778  \n",
       "\n",
       "[150 rows x 6 columns]"
      ]
     },
     "execution_count": 28,
     "metadata": {},
     "output_type": "execute_result"
    }
   ],
   "source": [
    "# Select rows where the Fahrenheit temperature is between 99 and 100 degrees.\n",
    "df[(df['temp_value'] >= 99) & (df['temp_value'] <= 100)]"
   ]
  },
  {
   "cell_type": "markdown",
   "id": "668e228a",
   "metadata": {},
   "source": [
    "#### ![](../graphics/exercise_icon.png)\n",
    "Display all `Core` temperatures that are greater than 100$^{\\circ} F$. (**Hint:** we have 2 criteria.)"
   ]
  },
  {
   "cell_type": "code",
   "execution_count": 29,
   "id": "9aedbbfd",
   "metadata": {},
   "outputs": [],
   "source": [
    "# Display all rows with core temperature greater than 100 degrees F.\n"
   ]
  },
  {
   "cell_type": "markdown",
   "id": "0e7a5eb1",
   "metadata": {},
   "source": [
    "### Analyzing filtered data\n",
    "We can also perform our descriptive statistics on a filtered subset!"
   ]
  },
  {
   "cell_type": "code",
   "execution_count": 30,
   "id": "fb9a1376",
   "metadata": {},
   "outputs": [
    {
     "data": {
      "text/html": [
       "<div>\n",
       "<style scoped>\n",
       "    .dataframe tbody tr th:only-of-type {\n",
       "        vertical-align: middle;\n",
       "    }\n",
       "\n",
       "    .dataframe tbody tr th {\n",
       "        vertical-align: top;\n",
       "    }\n",
       "\n",
       "    .dataframe thead th {\n",
       "        text-align: right;\n",
       "    }\n",
       "</style>\n",
       "<table border=\"1\" class=\"dataframe\">\n",
       "  <thead>\n",
       "    <tr style=\"text-align: right;\">\n",
       "      <th></th>\n",
       "      <th>patient</th>\n",
       "      <th>temp_value</th>\n",
       "      <th>temp_celsius</th>\n",
       "    </tr>\n",
       "  </thead>\n",
       "  <tbody>\n",
       "    <tr>\n",
       "      <th>count</th>\n",
       "      <td>10.000000</td>\n",
       "      <td>10.000000</td>\n",
       "      <td>10.000000</td>\n",
       "    </tr>\n",
       "    <tr>\n",
       "      <th>mean</th>\n",
       "      <td>432.300000</td>\n",
       "      <td>100.500000</td>\n",
       "      <td>38.055556</td>\n",
       "    </tr>\n",
       "    <tr>\n",
       "      <th>std</th>\n",
       "      <td>342.254632</td>\n",
       "      <td>0.547723</td>\n",
       "      <td>0.304290</td>\n",
       "    </tr>\n",
       "    <tr>\n",
       "      <th>min</th>\n",
       "      <td>41.000000</td>\n",
       "      <td>100.100000</td>\n",
       "      <td>37.833333</td>\n",
       "    </tr>\n",
       "    <tr>\n",
       "      <th>25%</th>\n",
       "      <td>151.000000</td>\n",
       "      <td>100.125000</td>\n",
       "      <td>37.847222</td>\n",
       "    </tr>\n",
       "    <tr>\n",
       "      <th>50%</th>\n",
       "      <td>357.000000</td>\n",
       "      <td>100.200000</td>\n",
       "      <td>37.888889</td>\n",
       "    </tr>\n",
       "    <tr>\n",
       "      <th>75%</th>\n",
       "      <td>714.250000</td>\n",
       "      <td>100.850000</td>\n",
       "      <td>38.250000</td>\n",
       "    </tr>\n",
       "    <tr>\n",
       "      <th>max</th>\n",
       "      <td>970.000000</td>\n",
       "      <td>101.700000</td>\n",
       "      <td>38.722222</td>\n",
       "    </tr>\n",
       "  </tbody>\n",
       "</table>\n",
       "</div>"
      ],
      "text/plain": [
       "          patient  temp_value  temp_celsius\n",
       "count   10.000000   10.000000     10.000000\n",
       "mean   432.300000  100.500000     38.055556\n",
       "std    342.254632    0.547723      0.304290\n",
       "min     41.000000  100.100000     37.833333\n",
       "25%    151.000000  100.125000     37.847222\n",
       "50%    357.000000  100.200000     37.888889\n",
       "75%    714.250000  100.850000     38.250000\n",
       "max    970.000000  101.700000     38.722222"
      ]
     },
     "execution_count": 30,
     "metadata": {},
     "output_type": "execute_result"
    }
   ],
   "source": [
    "df[(df['temp_source'] == 'Core') & (df['temp_value'] > 100)].describe()"
   ]
  },
  {
   "cell_type": "markdown",
   "id": "5d9c19e1",
   "metadata": {},
   "source": [
    "## Data visualization\n",
    "Let's conclude this lesson by learning how Pandas can enhance our understanding of a dataset with its many built-in visualization tools.\n",
    "\n",
    "In the next module, we'll be building a machine learning prediction model using a real-world patient dataset. We will use this dataset to demonstrate methods for data visualization in Pandas.\n",
    "\n",
    "Let's see the data! This time, we'll be loading our dataset into a DataFrame variable named `X`."
   ]
  },
  {
   "cell_type": "code",
   "execution_count": 31,
   "id": "088473f7",
   "metadata": {},
   "outputs": [
    {
     "data": {
      "text/html": [
       "<div>\n",
       "<style scoped>\n",
       "    .dataframe tbody tr th:only-of-type {\n",
       "        vertical-align: middle;\n",
       "    }\n",
       "\n",
       "    .dataframe tbody tr th {\n",
       "        vertical-align: top;\n",
       "    }\n",
       "\n",
       "    .dataframe thead th {\n",
       "        text-align: right;\n",
       "    }\n",
       "</style>\n",
       "<table border=\"1\" class=\"dataframe\">\n",
       "  <thead>\n",
       "    <tr style=\"text-align: right;\">\n",
       "      <th></th>\n",
       "      <th>patient_id</th>\n",
       "      <th>sex</th>\n",
       "      <th>ethnicity</th>\n",
       "      <th>race</th>\n",
       "      <th>language</th>\n",
       "      <th>marital_status</th>\n",
       "      <th>age</th>\n",
       "      <th>bmi</th>\n",
       "      <th>admission_source</th>\n",
       "      <th>emergent</th>\n",
       "      <th>...</th>\n",
       "      <th>valve</th>\n",
       "      <th>coag</th>\n",
       "      <th>obese</th>\n",
       "      <th>wghtloss</th>\n",
       "      <th>lytes</th>\n",
       "      <th>anemia</th>\n",
       "      <th>alc_drug</th>\n",
       "      <th>depress</th>\n",
       "      <th>egfr</th>\n",
       "      <th>aki_surg_disch</th>\n",
       "    </tr>\n",
       "  </thead>\n",
       "  <tbody>\n",
       "    <tr>\n",
       "      <th>0</th>\n",
       "      <td>4757</td>\n",
       "      <td>FEMALE</td>\n",
       "      <td>NON-HISPANIC</td>\n",
       "      <td>WHITE</td>\n",
       "      <td>ENGLISH</td>\n",
       "      <td>SINGLE</td>\n",
       "      <td>43.3690</td>\n",
       "      <td>40.6750</td>\n",
       "      <td>TRANSFER</td>\n",
       "      <td>NON-EMERGENCY</td>\n",
       "      <td>...</td>\n",
       "      <td>0</td>\n",
       "      <td>1</td>\n",
       "      <td>1</td>\n",
       "      <td>1</td>\n",
       "      <td>0</td>\n",
       "      <td>0</td>\n",
       "      <td>0</td>\n",
       "      <td>0</td>\n",
       "      <td>62.8876</td>\n",
       "      <td>0</td>\n",
       "    </tr>\n",
       "    <tr>\n",
       "      <th>1</th>\n",
       "      <td>2656</td>\n",
       "      <td>FEMALE</td>\n",
       "      <td>NON-HISPANIC</td>\n",
       "      <td>WHITE</td>\n",
       "      <td>ENGLISH</td>\n",
       "      <td>SINGLE</td>\n",
       "      <td>41.7882</td>\n",
       "      <td>51.3062</td>\n",
       "      <td>NON-TRANSFER</td>\n",
       "      <td>NON-EMERGENCY</td>\n",
       "      <td>...</td>\n",
       "      <td>0</td>\n",
       "      <td>0</td>\n",
       "      <td>0</td>\n",
       "      <td>0</td>\n",
       "      <td>0</td>\n",
       "      <td>0</td>\n",
       "      <td>0</td>\n",
       "      <td>0</td>\n",
       "      <td>81.3574</td>\n",
       "      <td>1</td>\n",
       "    </tr>\n",
       "    <tr>\n",
       "      <th>2</th>\n",
       "      <td>9944</td>\n",
       "      <td>FEMALE</td>\n",
       "      <td>NON-HISPANIC</td>\n",
       "      <td>WHITE</td>\n",
       "      <td>ENGLISH</td>\n",
       "      <td>SINGLE</td>\n",
       "      <td>35.8761</td>\n",
       "      <td>26.2132</td>\n",
       "      <td>NON-TRANSFER</td>\n",
       "      <td>NON-EMERGENCY</td>\n",
       "      <td>...</td>\n",
       "      <td>0</td>\n",
       "      <td>0</td>\n",
       "      <td>1</td>\n",
       "      <td>0</td>\n",
       "      <td>0</td>\n",
       "      <td>0</td>\n",
       "      <td>0</td>\n",
       "      <td>0</td>\n",
       "      <td>90.1036</td>\n",
       "      <td>0</td>\n",
       "    </tr>\n",
       "    <tr>\n",
       "      <th>3</th>\n",
       "      <td>2065</td>\n",
       "      <td>FEMALE</td>\n",
       "      <td>NON-HISPANIC</td>\n",
       "      <td>AA</td>\n",
       "      <td>ENGLISH</td>\n",
       "      <td>DIVORCED</td>\n",
       "      <td>81.8270</td>\n",
       "      <td>35.5527</td>\n",
       "      <td>NON-TRANSFER</td>\n",
       "      <td>NON-EMERGENCY</td>\n",
       "      <td>...</td>\n",
       "      <td>1</td>\n",
       "      <td>0</td>\n",
       "      <td>1</td>\n",
       "      <td>0</td>\n",
       "      <td>0</td>\n",
       "      <td>0</td>\n",
       "      <td>0</td>\n",
       "      <td>0</td>\n",
       "      <td>28.6199</td>\n",
       "      <td>1</td>\n",
       "    </tr>\n",
       "    <tr>\n",
       "      <th>4</th>\n",
       "      <td>1589</td>\n",
       "      <td>FEMALE</td>\n",
       "      <td>NON-HISPANIC</td>\n",
       "      <td>WHITE</td>\n",
       "      <td>ENGLISH</td>\n",
       "      <td>SINGLE</td>\n",
       "      <td>73.6769</td>\n",
       "      <td>39.5073</td>\n",
       "      <td>NON-TRANSFER</td>\n",
       "      <td>NON-EMERGENCY</td>\n",
       "      <td>...</td>\n",
       "      <td>0</td>\n",
       "      <td>0</td>\n",
       "      <td>0</td>\n",
       "      <td>0</td>\n",
       "      <td>0</td>\n",
       "      <td>1</td>\n",
       "      <td>0</td>\n",
       "      <td>1</td>\n",
       "      <td>NaN</td>\n",
       "      <td>0</td>\n",
       "    </tr>\n",
       "  </tbody>\n",
       "</table>\n",
       "<p>5 rows × 49 columns</p>\n",
       "</div>"
      ],
      "text/plain": [
       "   patient_id     sex     ethnicity   race language marital_status      age  \\\n",
       "0        4757  FEMALE  NON-HISPANIC  WHITE  ENGLISH         SINGLE  43.3690   \n",
       "1        2656  FEMALE  NON-HISPANIC  WHITE  ENGLISH         SINGLE  41.7882   \n",
       "2        9944  FEMALE  NON-HISPANIC  WHITE  ENGLISH         SINGLE  35.8761   \n",
       "3        2065  FEMALE  NON-HISPANIC     AA  ENGLISH       DIVORCED  81.8270   \n",
       "4        1589  FEMALE  NON-HISPANIC  WHITE  ENGLISH         SINGLE  73.6769   \n",
       "\n",
       "       bmi admission_source       emergent  ... valve  coag  obese  wghtloss  \\\n",
       "0  40.6750         TRANSFER  NON-EMERGENCY  ...     0     1      1         1   \n",
       "1  51.3062     NON-TRANSFER  NON-EMERGENCY  ...     0     0      0         0   \n",
       "2  26.2132     NON-TRANSFER  NON-EMERGENCY  ...     0     0      1         0   \n",
       "3  35.5527     NON-TRANSFER  NON-EMERGENCY  ...     1     0      1         0   \n",
       "4  39.5073     NON-TRANSFER  NON-EMERGENCY  ...     0     0      0         0   \n",
       "\n",
       "   lytes  anemia  alc_drug  depress     egfr  aki_surg_disch  \n",
       "0      0       0         0        0  62.8876               0  \n",
       "1      0       0         0        0  81.3574               1  \n",
       "2      0       0         0        0  90.1036               0  \n",
       "3      0       0         0        0  28.6199               1  \n",
       "4      0       1         0        1      NaN               0  \n",
       "\n",
       "[5 rows x 49 columns]"
      ]
     },
     "execution_count": 31,
     "metadata": {},
     "output_type": "execute_result"
    }
   ],
   "source": [
    "X = pd.read_csv('https://www.dropbox.com/s/ol9cs1sjsr2yhal/data_small.csv?dl=1')\n",
    "X.head()"
   ]
  },
  {
   "cell_type": "markdown",
   "id": "f35b27a8",
   "metadata": {},
   "source": [
    "#### ![](../graphics/example_icon.png)\n",
    "Let's visually examine the distribution of patient age with the pandas `hist` (histogram) function."
   ]
  },
  {
   "cell_type": "code",
   "execution_count": 32,
   "id": "2cf817b3",
   "metadata": {},
   "outputs": [
    {
     "data": {
      "image/png": "[encoded data removed]",
      "text/plain": [
       "<Figure size 640x480 with 1 Axes>"
      ]
     },
     "metadata": {},
     "output_type": "display_data"
    }
   ],
   "source": [
    "hist = X['age'].hist()"
   ]
  },
  {
   "cell_type": "markdown",
   "id": "28f61863",
   "metadata": {},
   "source": [
    "We can modify many parameters of the `hist` function to create a more informative figure."
   ]
  },
  {
   "cell_type": "code",
   "execution_count": 33,
   "id": "c67d123b",
   "metadata": {},
   "outputs": [
    {
     "data": {
      "text/plain": [
       "<Axes: title={'center': 'Distribution of Patient Age'}, xlabel='Age', ylabel='Count'>"
      ]
     },
     "metadata": {},
     "output_type": "display_data"
    },
    {
     "data": {
      "image/png": "[encoded data removed]",
      "text/plain": [
       "<Figure size 640x480 with 1 Axes>"
      ]
     },
     "metadata": {},
     "output_type": "display_data"
    }
   ],
   "source": [
    "hist = X['age'].hist(bins=72, grid=False)\n",
    "hist.set_title('Distribution of Patient Age')\n",
    "hist.set_ylabel('Count')\n",
    "hist.set_xlabel('Age')\n",
    "display(hist)"
   ]
  },
  {
   "cell_type": "markdown",
   "id": "44145fe4",
   "metadata": {},
   "source": [
    "#### ![](../graphics/exercise_icon.png) \n",
    "Visualize the distribution of the body mass index (`bmi`) column. Feel free to first filter out unrealistic BMI values and to experiment with the `bins` parameter of the `hist` function."
   ]
  },
  {
   "cell_type": "code",
   "execution_count": null,
   "id": "6ac17451",
   "metadata": {},
   "outputs": [],
   "source": []
  },
  {
   "cell_type": "markdown",
   "id": "6a622496",
   "metadata": {},
   "source": [
    "#### ![](../graphics/example_icon.png)\n",
    "We can use the `df.plot.box` function to create box plots from columns in our DataFrame:"
   ]
  },
  {
   "cell_type": "code",
   "execution_count": 34,
   "id": "3a92ebb4",
   "metadata": {},
   "outputs": [
    {
     "data": {
      "text/plain": [
       "age    Axes(0.125,0.11;0.775x0.77)\n",
       "dtype: object"
      ]
     },
     "execution_count": 34,
     "metadata": {},
     "output_type": "execute_result"
    },
    {
     "data": {
      "image/png": "[encoded data removed]",
      "text/plain": [
       "<Figure size 640x480 with 1 Axes>"
      ]
     },
     "metadata": {},
     "output_type": "display_data"
    }
   ],
   "source": [
    "X.plot.box(column='age', by='marital_status')"
   ]
  },
  {
   "cell_type": "markdown",
   "id": "bfa1e495",
   "metadata": {},
   "source": [
    "#### ![](../graphics/exercise_icon.png)\n",
    "Practice with the `hist` and `box` functions by exploring different columns in our DataFrame. Experiment with data filtering methods to further refine your figures. **Hint:** We can see all of the available columns with `print(X.columns)`."
   ]
  },
  {
   "cell_type": "code",
   "execution_count": 35,
   "id": "705b9371",
   "metadata": {},
   "outputs": [],
   "source": [
    "### Experiment with code!\n"
   ]
  },
  {
   "cell_type": "markdown",
   "id": "66e920e6-0941-4f38-8b38-63341fdff3a4",
   "metadata": {},
   "source": [
    "***\n",
    "#### Attribution \n",
    "Content in this learning experience was adapted from the University of Florida [Practicum AI](https://practicumai.org) \"Introduction to Python\" course."
   ]
  }
 ],
 "metadata": {
  "colab": {
   "provenance": []
  },
  "kernelspec": {
   "display_name": "Python 3 (ipykernel)",
   "language": "python",
   "name": "python3"
  },
  "language_info": {
   "codemirror_mode": {
    "name": "ipython",
    "version": 3
   },
   "file_extension": ".py",
   "mimetype": "text/x-python",
   "name": "python",
   "nbconvert_exporter": "python",
   "pygments_lexer": "ipython3",
   "version": "3.9.16"
  },
  "vscode": {
   "interpreter": {
    "hash": "442d0c0e479a9a390f050bd5e20dc551a2c9cfe478296c9d47f476f59d719e25"
   }
  }
 },
 "nbformat": 4,
 "nbformat_minor": 5
}
